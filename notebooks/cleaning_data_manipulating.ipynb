{
 "cells": [
  {
   "cell_type": "code",
   "execution_count": 4,
   "metadata": {},
   "outputs": [
    {
     "ename": "ModuleNotFoundError",
     "evalue": "No module named 'psycopg2'",
     "output_type": "error",
     "traceback": [
      "\u001b[31m---------------------------------------------------------------------------\u001b[39m",
      "\u001b[31mModuleNotFoundError\u001b[39m                       Traceback (most recent call last)",
      "\u001b[36mCell\u001b[39m\u001b[36m \u001b[39m\u001b[32mIn[4]\u001b[39m\u001b[32m, line 4\u001b[39m\n\u001b[32m      2\u001b[39m \u001b[38;5;28;01mimport\u001b[39;00m\u001b[38;5;250m \u001b[39m\u001b[34;01mre\u001b[39;00m\n\u001b[32m      3\u001b[39m \u001b[38;5;28;01mimport\u001b[39;00m\u001b[38;5;250m \u001b[39m\u001b[34;01mmissingno\u001b[39;00m\u001b[38;5;250m \u001b[39m\u001b[38;5;28;01mas\u001b[39;00m\u001b[38;5;250m \u001b[39m\u001b[34;01mmsno\u001b[39;00m\n\u001b[32m----> \u001b[39m\u001b[32m4\u001b[39m \u001b[38;5;28;01mimport\u001b[39;00m\u001b[38;5;250m \u001b[39m\u001b[34;01mpsycopg2\u001b[39;00m\u001b[38;5;250m \u001b[39m\u001b[38;5;28;01mas\u001b[39;00m\u001b[38;5;250m \u001b[39m\u001b[34;01mpg2\u001b[39;00m\n",
      "\u001b[31mModuleNotFoundError\u001b[39m: No module named 'psycopg2'"
     ]
    }
   ],
   "source": [
    "import pandas as pd\n",
    "import re\n",
    "import missingno as msno\n",
    "import psycopg2 as pg2"
   ]
  },
  {
   "cell_type": "code",
   "execution_count": 2,
   "metadata": {},
   "outputs": [],
   "source": [
    "# Read the csv file\n",
    "df = pd.read_csv('C:\\\\Language_Projects\\\\Language_Projects\\\\Python\\\\Flagship_1\\\\automotive_diagnostic_data_analysis\\\\data\\\\Pre-Screen_Test_Results.csv')"
   ]
  },
  {
   "cell_type": "code",
   "execution_count": 3,
   "metadata": {},
   "outputs": [
    {
     "name": "stdout",
     "output_type": "stream",
     "text": [
      "<class 'pandas.core.frame.DataFrame'>\n",
      "RangeIndex: 8395 entries, 0 to 8394\n",
      "Data columns (total 12 columns):\n",
      " #   Column        Non-Null Count  Dtype  \n",
      "---  ------        --------------  -----  \n",
      " 0   Created Time  8395 non-null   object \n",
      " 1   H Number      8395 non-null   object \n",
      " 2   Entry Type    8395 non-null   object \n",
      " 3   Technician    8335 non-null   object \n",
      " 4   Source        8395 non-null   object \n",
      " 5   Year          8394 non-null   float64\n",
      " 6   Make          8395 non-null   object \n",
      " 7   Model         8393 non-null   object \n",
      " 8   Engine Size   8162 non-null   object \n",
      " 9   HW #          7363 non-null   object \n",
      " 10  Part #        7950 non-null   object \n",
      " 11  Notes         8348 non-null   object \n",
      "dtypes: float64(1), object(11)\n",
      "memory usage: 787.2+ KB\n"
     ]
    }
   ],
   "source": [
    "# Print the info of the extracted column\n",
    "df.info()"
   ]
  },
  {
   "cell_type": "code",
   "execution_count": 4,
   "metadata": {},
   "outputs": [
    {
     "data": {
      "text/plain": [
       "Entry Type\n",
       "Pre-Screen Form Completed    5044\n",
       "RMA Pre-Screen               1762\n",
       "RMA Test Results             1589\n",
       "Name: count, dtype: int64"
      ]
     },
     "execution_count": 4,
     "metadata": {},
     "output_type": "execute_result"
    }
   ],
   "source": [
    "# As the entry type 'RMA Test Results' does not contain prescreen notes, the rows with this entry type will be removed\n",
    "df['Entry Type'].value_counts()"
   ]
  },
  {
   "cell_type": "code",
   "execution_count": 5,
   "metadata": {},
   "outputs": [],
   "source": [
    "# Filter the DataFrame excluding the entry type 'RMA Test Results'\n",
    "df_prescreen_notes = df[df['Entry Type'].isin(['RMA Pre-Screen', 'Pre-Screen Form Completed'])]"
   ]
  },
  {
   "cell_type": "code",
   "execution_count": 6,
   "metadata": {},
   "outputs": [
    {
     "name": "stdout",
     "output_type": "stream",
     "text": [
      "<class 'pandas.core.frame.DataFrame'>\n",
      "Index: 6806 entries, 0 to 8394\n",
      "Data columns (total 12 columns):\n",
      " #   Column        Non-Null Count  Dtype  \n",
      "---  ------        --------------  -----  \n",
      " 0   Created Time  6806 non-null   object \n",
      " 1   H Number      6806 non-null   object \n",
      " 2   Entry Type    6806 non-null   object \n",
      " 3   Technician    6754 non-null   object \n",
      " 4   Source        6806 non-null   object \n",
      " 5   Year          6806 non-null   float64\n",
      " 6   Make          6806 non-null   object \n",
      " 7   Model         6805 non-null   object \n",
      " 8   Engine Size   6615 non-null   object \n",
      " 9   HW #          6001 non-null   object \n",
      " 10  Part #        6444 non-null   object \n",
      " 11  Notes         6760 non-null   object \n",
      "dtypes: float64(1), object(11)\n",
      "memory usage: 691.2+ KB\n"
     ]
    }
   ],
   "source": [
    "# Check the df updated\n",
    "df_prescreen_notes.info()"
   ]
  },
  {
   "cell_type": "code",
   "execution_count": 7,
   "metadata": {},
   "outputs": [],
   "source": [
    "# Create a dataframe with only the 'Pre-Screen Form Completed' entry type\n",
    "df_prescreen_zoho_form = df_prescreen_notes[df_prescreen_notes['Entry Type'] == 'Pre-Screen Form Completed']"
   ]
  },
  {
   "cell_type": "code",
   "execution_count": 8,
   "metadata": {},
   "outputs": [
    {
     "name": "stdout",
     "output_type": "stream",
     "text": [
      "<class 'pandas.core.frame.DataFrame'>\n",
      "Index: 5044 entries, 13 to 8394\n",
      "Data columns (total 12 columns):\n",
      " #   Column        Non-Null Count  Dtype  \n",
      "---  ------        --------------  -----  \n",
      " 0   Created Time  5044 non-null   object \n",
      " 1   H Number      5044 non-null   object \n",
      " 2   Entry Type    5044 non-null   object \n",
      " 3   Technician    5044 non-null   object \n",
      " 4   Source        5044 non-null   object \n",
      " 5   Year          5044 non-null   float64\n",
      " 6   Make          5044 non-null   object \n",
      " 7   Model         5043 non-null   object \n",
      " 8   Engine Size   4902 non-null   object \n",
      " 9   HW #          4472 non-null   object \n",
      " 10  Part #        4789 non-null   object \n",
      " 11  Notes         5044 non-null   object \n",
      "dtypes: float64(1), object(11)\n",
      "memory usage: 512.3+ KB\n"
     ]
    }
   ],
   "source": [
    "# Check the df updated\n",
    "df_prescreen_zoho_form.info()"
   ]
  },
  {
   "cell_type": "markdown",
   "metadata": {},
   "source": [
    "The CRM form contains the string 'Additional Notes' and the Entry Type 'Pre-Screen Form Completed' should contains only those accounts prescreened with the CRM form. "
   ]
  },
  {
   "cell_type": "code",
   "execution_count": 9,
   "metadata": {},
   "outputs": [],
   "source": [
    "# Confirm if the Entry Type 'Pre-Screen Form Completed' has only accounts prescreened with CRM form by using the string 'Additional Notes'\n",
    "additional_notes_checking = df_prescreen_zoho_form['Notes'].str.contains('Additional Notes', case=False, na=False)"
   ]
  },
  {
   "cell_type": "code",
   "execution_count": 10,
   "metadata": {},
   "outputs": [
    {
     "data": {
      "text/plain": [
       "Notes\n",
       "True    5044\n",
       "Name: count, dtype: int64"
      ]
     },
     "execution_count": 10,
     "metadata": {},
     "output_type": "execute_result"
    }
   ],
   "source": [
    "# Count if there is a False value\n",
    "additional_notes_checking.value_counts()"
   ]
  },
  {
   "cell_type": "markdown",
   "metadata": {},
   "source": [
    "ORIGINAL PROBLEMS"
   ]
  },
  {
   "cell_type": "code",
   "execution_count": 11,
   "metadata": {},
   "outputs": [],
   "source": [
    "# Extract the original problem from column notes and store in a variable\n",
    "original_problem_zoho_form_extracted = df_prescreen_zoho_form['Notes'].str.extract(r'experienced with customers original unit:\\s*(.*?)(?=DTCs on original unit)', flags=re.IGNORECASE | re.DOTALL)"
   ]
  },
  {
   "cell_type": "code",
   "execution_count": 12,
   "metadata": {},
   "outputs": [],
   "source": [
    "# Rename column 0\n",
    "original_problem_zoho_form_renamed = original_problem_zoho_form_extracted.rename(columns={0: 'Original Problems'})"
   ]
  },
  {
   "cell_type": "code",
   "execution_count": 13,
   "metadata": {},
   "outputs": [],
   "source": [
    "# A second regex to extract only the strings and the original problems\n",
    "original_problem_zoho_form_orig_nochars = original_problem_zoho_form_renamed['Original Problems'].str.replace(r'<[^>]+>|\\n|:|=|\\?|\\\\|\\/|\\r', '', regex=True).str.strip()"
   ]
  },
  {
   "cell_type": "markdown",
   "metadata": {},
   "source": [
    "ORIGINAL DTCs"
   ]
  },
  {
   "cell_type": "code",
   "execution_count": 14,
   "metadata": {},
   "outputs": [],
   "source": [
    "# Regex to extract the information described on the original DTCs field\n",
    "original_dtcs_zoho_form_extracted = df_prescreen_zoho_form['Notes'].str.extract(r'DTCs on original unit:(.*?)(?=<b>DTCs transcript:)', flags=re.IGNORECASE | re.DOTALL)"
   ]
  },
  {
   "cell_type": "code",
   "execution_count": 15,
   "metadata": {},
   "outputs": [],
   "source": [
    "# Rename column 0\n",
    "original_dtcs_zoho_form_extracted_renamed = original_dtcs_zoho_form_extracted.rename(columns={0: 'Original DTCs'})"
   ]
  },
  {
   "cell_type": "code",
   "execution_count": 16,
   "metadata": {},
   "outputs": [],
   "source": [
    "# A second regex to extract only the strings and the dtcs\n",
    "original_dtcs_zoho_form_nochars = original_dtcs_zoho_form_extracted_renamed['Original DTCs'].str.replace(r'<[^>]+>|\\n|:|=|\\?|\\\\|\\/|\\r', '', regex=True).str.strip()"
   ]
  },
  {
   "cell_type": "markdown",
   "metadata": {},
   "source": [
    "FS1 PROBLEMS"
   ]
  },
  {
   "cell_type": "code",
   "execution_count": 17,
   "metadata": {},
   "outputs": [],
   "source": [
    "# Extract the fs1 problems and store in a variable\n",
    "fs1_problems_zoho_form_extracted = df_prescreen_zoho_form['Notes'].str.extract(r'Problems experienced with our unit:(.*?)(?=DTCs on our unit:)', flags=re.IGNORECASE | re.DOTALL)"
   ]
  },
  {
   "cell_type": "code",
   "execution_count": 18,
   "metadata": {},
   "outputs": [],
   "source": [
    "# Rename column 0\n",
    "fs1_problems_zoho_form_renamed = fs1_problems_zoho_form_extracted.rename(columns={0: 'FS1 ECU Problems'})"
   ]
  },
  {
   "cell_type": "code",
   "execution_count": 19,
   "metadata": {},
   "outputs": [],
   "source": [
    "# A second regex to extract only the strings and the fs1 problems\n",
    "fs1_problems_extracted_nochars = fs1_problems_zoho_form_renamed['FS1 ECU Problems'].str.replace(r'<[^>]+>|\\n|:|=|\\?|\\\\|\\/|\\r', '', regex=True).str.strip()"
   ]
  },
  {
   "cell_type": "markdown",
   "metadata": {},
   "source": [
    "FS1 DTCs"
   ]
  },
  {
   "cell_type": "code",
   "execution_count": 20,
   "metadata": {},
   "outputs": [],
   "source": [
    "# Extract the fs1 dcts and store in a variable\n",
    "fs1_dtcs_zoho_form = df_prescreen_zoho_form['Notes'].str.extract(r'DTCs on our unit:(.*?)(?=<b>DTCs transcript:)', flags=re.IGNORECASE | re.DOTALL)"
   ]
  },
  {
   "cell_type": "code",
   "execution_count": 21,
   "metadata": {},
   "outputs": [],
   "source": [
    "# Rename column 0\n",
    "fs1_dtcs_zoho_form_renamed = fs1_dtcs_zoho_form.rename(columns={0: 'FS1 DTCs'})"
   ]
  },
  {
   "cell_type": "code",
   "execution_count": 22,
   "metadata": {},
   "outputs": [],
   "source": [
    "# A second regex to extract only the strings and the dtcs\n",
    "fs1_dtcs_zoho_form_nochars = fs1_dtcs_zoho_form_renamed['FS1 DTCs'].str.replace(r'<[^>]+>|\\n|:|=|\\?|\\\\|\\/|\\r', '', regex=True).str.strip()"
   ]
  },
  {
   "cell_type": "markdown",
   "metadata": {},
   "source": [
    "PROBLEMS RELATED"
   ]
  },
  {
   "cell_type": "code",
   "execution_count": 23,
   "metadata": {},
   "outputs": [],
   "source": [
    "# Extract the original problems related information (Yes/No/Uncertain)\n",
    "problems_related = df_prescreen_zoho_form['Notes'].str.extract(r'Are the original and current problems related.*?(Yes|No|Uncertain).*?(?=Were the proper diagnostic)', flags=re.IGNORECASE | re.DOTALL)"
   ]
  },
  {
   "cell_type": "code",
   "execution_count": 24,
   "metadata": {},
   "outputs": [],
   "source": [
    "# Drop column 0\n",
    "problems_related_renamed = problems_related.rename(columns={0: 'FS1/Original Problems Related'})"
   ]
  },
  {
   "cell_type": "markdown",
   "metadata": {},
   "source": [
    "ADDITIONAL NOTES"
   ]
  },
  {
   "cell_type": "code",
   "execution_count": 25,
   "metadata": {},
   "outputs": [],
   "source": [
    "# Extract the additional notes information and store in a variable\n",
    "additional_notes_zoho_form = df_prescreen_zoho_form['Notes'].str.extract(r'Additional Notes/Testing Recommendations?\\s*(.*?)(?=Resolution:)', flags=re.IGNORECASE | re.DOTALL)"
   ]
  },
  {
   "cell_type": "code",
   "execution_count": 26,
   "metadata": {},
   "outputs": [],
   "source": [
    "additional_notes_zoho_form_renamed = additional_notes_zoho_form.rename(columns={0: 'Additional Notes'})"
   ]
  },
  {
   "cell_type": "code",
   "execution_count": 27,
   "metadata": {},
   "outputs": [],
   "source": [
    "# A second regex to extract only the strings and the additional notes\n",
    "additional_notes_zoho_form_nochars = additional_notes_zoho_form_renamed['Additional Notes'].str.replace(r'<[^>]+>|\\n|:|=|\\?|\\\\|\\/|\\r', '', regex=True).str.strip()"
   ]
  },
  {
   "cell_type": "markdown",
   "metadata": {},
   "source": [
    "RESOLUTION"
   ]
  },
  {
   "cell_type": "code",
   "execution_count": 28,
   "metadata": {},
   "outputs": [],
   "source": [
    "# Extract the resolution notes from column and store in a variable\n",
    "resolution_notes_zoho_form = df_prescreen_zoho_form['Notes'].str.extract(r'Resolution:(.*)', flags=re.IGNORECASE | re.DOTALL)"
   ]
  },
  {
   "cell_type": "code",
   "execution_count": 29,
   "metadata": {},
   "outputs": [],
   "source": [
    "# Rename column 0\n",
    "resolution_notes_zoho_form_renamed = resolution_notes_zoho_form.rename(columns={0: 'Resolution'})"
   ]
  },
  {
   "cell_type": "code",
   "execution_count": 30,
   "metadata": {},
   "outputs": [],
   "source": [
    "# A second regex to extract only the strings and the resolution\n",
    "resolution_notes_zoho_form_nochars = resolution_notes_zoho_form_renamed['Resolution'].str.replace(r'<[^>]+>|\\n|:|=|\\?|\\\\|\\/|\\r', '', regex=True).str.strip()"
   ]
  },
  {
   "cell_type": "code",
   "execution_count": 31,
   "metadata": {},
   "outputs": [],
   "source": [
    "# Concatenate the columns\n",
    "df_zoho_form_last_update = pd.concat([df_prescreen_zoho_form, original_problem_zoho_form_orig_nochars, original_dtcs_zoho_form_nochars, fs1_problems_extracted_nochars, fs1_dtcs_zoho_form_nochars, problems_related_renamed, additional_notes_zoho_form_nochars, resolution_notes_zoho_form_nochars], axis=1)"
   ]
  },
  {
   "cell_type": "code",
   "execution_count": 32,
   "metadata": {},
   "outputs": [
    {
     "data": {
      "text/html": [
       "<div>\n",
       "<style scoped>\n",
       "    .dataframe tbody tr th:only-of-type {\n",
       "        vertical-align: middle;\n",
       "    }\n",
       "\n",
       "    .dataframe tbody tr th {\n",
       "        vertical-align: top;\n",
       "    }\n",
       "\n",
       "    .dataframe thead th {\n",
       "        text-align: right;\n",
       "    }\n",
       "</style>\n",
       "<table border=\"1\" class=\"dataframe\">\n",
       "  <thead>\n",
       "    <tr style=\"text-align: right;\">\n",
       "      <th></th>\n",
       "      <th>Created Time</th>\n",
       "      <th>H Number</th>\n",
       "      <th>Entry Type</th>\n",
       "      <th>Technician</th>\n",
       "      <th>Source</th>\n",
       "      <th>Year</th>\n",
       "      <th>Make</th>\n",
       "      <th>Model</th>\n",
       "      <th>Engine Size</th>\n",
       "      <th>HW #</th>\n",
       "      <th>Part #</th>\n",
       "      <th>Notes</th>\n",
       "      <th>Original Problems</th>\n",
       "      <th>Original DTCs</th>\n",
       "      <th>FS1 ECU Problems</th>\n",
       "      <th>FS1 DTCs</th>\n",
       "      <th>FS1/Original Problems Related</th>\n",
       "      <th>Additional Notes</th>\n",
       "      <th>Resolution</th>\n",
       "    </tr>\n",
       "  </thead>\n",
       "  <tbody>\n",
       "    <tr>\n",
       "      <th>13</th>\n",
       "      <td>Jul 03, 2024 12:34 PM</td>\n",
       "      <td>H1483335</td>\n",
       "      <td>Pre-Screen Form Completed</td>\n",
       "      <td>Adeosun</td>\n",
       "      <td>S280762</td>\n",
       "      <td>2006.0</td>\n",
       "      <td>Saturn</td>\n",
       "      <td>ION</td>\n",
       "      <td>2.2L</td>\n",
       "      <td>E16A-26S</td>\n",
       "      <td>12605786</td>\n",
       "      <td>Extended Note:\\n&lt;hr&gt;&lt;b&gt;Task Owner:&lt;/b&gt; Adeosun...</td>\n",
       "      <td>No power when accelerating</td>\n",
       "      <td>NO ERROR CODES</td>\n",
       "      <td>MODULE WOULD NOT START THE CAR PASSKEY II  Pro...</td>\n",
       "      <td>None</td>\n",
       "      <td>No</td>\n",
       "      <td>I recommend we have the customer verify that t...</td>\n",
       "      <td>Customer must perform additional diagnosticsec...</td>\n",
       "    </tr>\n",
       "    <tr>\n",
       "      <th>14</th>\n",
       "      <td>Jul 05, 2024 12:44 PM</td>\n",
       "      <td>H1480306</td>\n",
       "      <td>Pre-Screen Form Completed</td>\n",
       "      <td>Adeosun</td>\n",
       "      <td>S280194</td>\n",
       "      <td>2009.0</td>\n",
       "      <td>Ford</td>\n",
       "      <td>F-Series Truck</td>\n",
       "      <td>5.4L</td>\n",
       "      <td>9C2A-12B684-AC</td>\n",
       "      <td>9L3A-12A650-BXD</td>\n",
       "      <td>Extended Note:\\n&lt;hr&gt;&lt;b&gt;Task Owner:&lt;/b&gt; Adeosun...</td>\n",
       "      <td>It starts but no ground for bank 2 sensor 1 o2...</td>\n",
       "      <td>P0050</td>\n",
       "      <td>It start but had code code p1639 vid programmi...</td>\n",
       "      <td>P1639</td>\n",
       "      <td>No</td>\n",
       "      <td>Return both the original unit and our unit, so...</td>\n",
       "      <td>Return both the original unit and our unit, so...</td>\n",
       "    </tr>\n",
       "  </tbody>\n",
       "</table>\n",
       "</div>"
      ],
      "text/plain": [
       "             Created Time  H Number                 Entry Type Technician  \\\n",
       "13  Jul 03, 2024 12:34 PM  H1483335  Pre-Screen Form Completed    Adeosun   \n",
       "14  Jul 05, 2024 12:44 PM  H1480306  Pre-Screen Form Completed    Adeosun   \n",
       "\n",
       "     Source    Year    Make           Model Engine Size            HW #  \\\n",
       "13  S280762  2006.0  Saturn             ION        2.2L        E16A-26S   \n",
       "14  S280194  2009.0    Ford  F-Series Truck        5.4L  9C2A-12B684-AC   \n",
       "\n",
       "             Part #                                              Notes  \\\n",
       "13         12605786  Extended Note:\\n<hr><b>Task Owner:</b> Adeosun...   \n",
       "14  9L3A-12A650-BXD  Extended Note:\\n<hr><b>Task Owner:</b> Adeosun...   \n",
       "\n",
       "                                    Original Problems   Original DTCs  \\\n",
       "13                         No power when accelerating  NO ERROR CODES   \n",
       "14  It starts but no ground for bank 2 sensor 1 o2...           P0050   \n",
       "\n",
       "                                     FS1 ECU Problems FS1 DTCs  \\\n",
       "13  MODULE WOULD NOT START THE CAR PASSKEY II  Pro...     None   \n",
       "14  It start but had code code p1639 vid programmi...    P1639   \n",
       "\n",
       "   FS1/Original Problems Related  \\\n",
       "13                            No   \n",
       "14                            No   \n",
       "\n",
       "                                     Additional Notes  \\\n",
       "13  I recommend we have the customer verify that t...   \n",
       "14  Return both the original unit and our unit, so...   \n",
       "\n",
       "                                           Resolution  \n",
       "13  Customer must perform additional diagnosticsec...  \n",
       "14  Return both the original unit and our unit, so...  "
      ]
     },
     "execution_count": 32,
     "metadata": {},
     "output_type": "execute_result"
    }
   ],
   "source": [
    "# Print the first 5 rows of the new dataframe\n",
    "df_zoho_form_last_update.head(2)"
   ]
  },
  {
   "cell_type": "code",
   "execution_count": 33,
   "metadata": {},
   "outputs": [
    {
     "name": "stdout",
     "output_type": "stream",
     "text": [
      "<class 'pandas.core.frame.DataFrame'>\n",
      "Index: 5044 entries, 13 to 8394\n",
      "Data columns (total 19 columns):\n",
      " #   Column                         Non-Null Count  Dtype  \n",
      "---  ------                         --------------  -----  \n",
      " 0   Created Time                   5044 non-null   object \n",
      " 1   H Number                       5044 non-null   object \n",
      " 2   Entry Type                     5044 non-null   object \n",
      " 3   Technician                     5044 non-null   object \n",
      " 4   Source                         5044 non-null   object \n",
      " 5   Year                           5044 non-null   float64\n",
      " 6   Make                           5044 non-null   object \n",
      " 7   Model                          5043 non-null   object \n",
      " 8   Engine Size                    4902 non-null   object \n",
      " 9   HW #                           4472 non-null   object \n",
      " 10  Part #                         4789 non-null   object \n",
      " 11  Notes                          5044 non-null   object \n",
      " 12  Original Problems              5044 non-null   object \n",
      " 13  Original DTCs                  5044 non-null   object \n",
      " 14  FS1 ECU Problems               5044 non-null   object \n",
      " 15  FS1 DTCs                       5044 non-null   object \n",
      " 16  FS1/Original Problems Related  5044 non-null   object \n",
      " 17  Additional Notes               5044 non-null   object \n",
      " 18  Resolution                     5044 non-null   object \n",
      "dtypes: float64(1), object(18)\n",
      "memory usage: 788.1+ KB\n"
     ]
    }
   ],
   "source": [
    "# Print the info of the new dataframe to check how many null values the new columns have\n",
    "df_zoho_form_last_update.info()"
   ]
  },
  {
   "cell_type": "code",
   "execution_count": 34,
   "metadata": {},
   "outputs": [
    {
     "data": {
      "text/plain": [
       "<Axes: >"
      ]
     },
     "execution_count": 34,
     "metadata": {},
     "output_type": "execute_result"
    },
    {
     "data": {
      "image/png": "[encoded data removed]",
      "text/plain": [
       "<Figure size 2500x1000 with 2 Axes>"
      ]
     },
     "metadata": {},
     "output_type": "display_data"
    }
   ],
   "source": [
    "# Visualize the missing values on the new dataframe chart\n",
    "msno.matrix(df_zoho_form_last_update)"
   ]
  },
  {
   "cell_type": "code",
   "execution_count": 35,
   "metadata": {},
   "outputs": [
    {
     "data": {
      "text/plain": [
       "array(['RMA Pre-Screen', 'RMA Pre-Screen', 'RMA Pre-Screen', ...,\n",
       "       'Pre-Screen Form Completed', 'Pre-Screen Form Completed',\n",
       "       'Pre-Screen Form Completed'], shape=(6806,), dtype=object)"
      ]
     },
     "execution_count": 35,
     "metadata": {},
     "output_type": "execute_result"
    }
   ],
   "source": [
    "# Get the value needed for filtering the dataframe\n",
    "df_prescreen_notes['Entry Type'].values"
   ]
  },
  {
   "cell_type": "code",
   "execution_count": 36,
   "metadata": {},
   "outputs": [],
   "source": [
    "# Create a new dataframe with only the prescreen notes done with the Google form\n",
    "df_google_form_filtered = df_prescreen_notes[df_prescreen_notes['Entry Type'] == 'RMA Pre-Screen']"
   ]
  },
  {
   "cell_type": "code",
   "execution_count": 37,
   "metadata": {},
   "outputs": [
    {
     "name": "stdout",
     "output_type": "stream",
     "text": [
      "<class 'pandas.core.frame.DataFrame'>\n",
      "Index: 1762 entries, 0 to 8387\n",
      "Data columns (total 12 columns):\n",
      " #   Column        Non-Null Count  Dtype  \n",
      "---  ------        --------------  -----  \n",
      " 0   Created Time  1762 non-null   object \n",
      " 1   H Number      1762 non-null   object \n",
      " 2   Entry Type    1762 non-null   object \n",
      " 3   Technician    1710 non-null   object \n",
      " 4   Source        1762 non-null   object \n",
      " 5   Year          1762 non-null   float64\n",
      " 6   Make          1762 non-null   object \n",
      " 7   Model         1762 non-null   object \n",
      " 8   Engine Size   1713 non-null   object \n",
      " 9   HW #          1529 non-null   object \n",
      " 10  Part #        1655 non-null   object \n",
      " 11  Notes         1716 non-null   object \n",
      "dtypes: float64(1), object(11)\n",
      "memory usage: 179.0+ KB\n"
     ]
    }
   ],
   "source": [
    "# Check the df after filtering\n",
    "df_google_form_filtered.info()"
   ]
  },
  {
   "cell_type": "code",
   "execution_count": 38,
   "metadata": {},
   "outputs": [],
   "source": [
    "# This spreadsheet already has the prescreen notes separated by field.\n",
    "# Instead of extracting the information from the main df 'df_google_form_filtered', the following concatenates the data from this dataframe to the df_google_form\n",
    "df_google_form_secondary = pd.read_excel('C:\\\\Language_Projects\\\\Language_Projects\\\\Python\\\\Flagship_1\\\\automotive_diagnostic_data_analysis\\\\data\\\\prescreen_google_form.xlsx')"
   ]
  },
  {
   "cell_type": "code",
   "execution_count": 39,
   "metadata": {},
   "outputs": [
    {
     "data": {
      "text/plain": [
       "Index(['Created Time', 'H Number', 'Entry Type', 'Technician', 'Source',\n",
       "       'Year', 'Make', 'Model', 'Engine Size', 'HW #', 'Part #', 'Notes'],\n",
       "      dtype='object')"
      ]
     },
     "execution_count": 39,
     "metadata": {},
     "output_type": "execute_result"
    }
   ],
   "source": [
    "# Confirming the column names\n",
    "df_google_form_filtered.columns"
   ]
  },
  {
   "cell_type": "code",
   "execution_count": 40,
   "metadata": {},
   "outputs": [],
   "source": [
    "# Drop some unnecessary columns\n",
    "df_google_form_dropped_columns = df_google_form_secondary.drop(columns=['Unnamed: 3', 'Unnamed: 20', 'Unnamed: 21', 'Unnamed: 22', 'Unnamed: 23', 'Unnamed: 24', 'Unnamed: 25', 'Unnamed: 26', 'Timestamp for assignment log'])"
   ]
  },
  {
   "cell_type": "code",
   "execution_count": 41,
   "metadata": {},
   "outputs": [],
   "source": [
    "# Rename the column \"Acct. #\" for \"H Number\" to match the main df\n",
    "df_google_form_secondary_updated = df_google_form_dropped_columns.rename(columns={'Acct. #': 'H Number'})"
   ]
  },
  {
   "cell_type": "code",
   "execution_count": 42,
   "metadata": {},
   "outputs": [
    {
     "name": "stdout",
     "output_type": "stream",
     "text": [
      "<class 'pandas.core.frame.DataFrame'>\n",
      "RangeIndex: 7025 entries, 0 to 7024\n",
      "Data columns (total 19 columns):\n",
      " #   Column                           Non-Null Count  Dtype \n",
      "---  ------                           --------------  ----- \n",
      " 0   Timestamp                        7025 non-null   object\n",
      " 1   Technician                       7025 non-null   object\n",
      " 2   H Number                         7025 non-null   object\n",
      " 3   Is this a replacement?           7025 non-null   object\n",
      " 4   Year                             7025 non-null   int64 \n",
      " 5   Make                             7025 non-null   object\n",
      " 6   Model                            7025 non-null   object\n",
      " 7   Engine Size                      7005 non-null   object\n",
      " 8   VIN                              6994 non-null   object\n",
      " 9   Module Type                      7015 non-null   object\n",
      " 10  Service Provided                 6995 non-null   object\n",
      " 11  Original Problem(s)              7012 non-null   object\n",
      " 12  DTCs on original unit            6155 non-null   object\n",
      " 13  Current Problem(s)               7018 non-null   object\n",
      " 14  DTCs on our unit                 6311 non-null   object\n",
      " 15  Problems Related?                7025 non-null   object\n",
      " 16  Diagnosed properly by Customer?  7025 non-null   object\n",
      " 17  Additional Notes                 3692 non-null   object\n",
      " 18  Resolution:                      7024 non-null   object\n",
      "dtypes: int64(1), object(18)\n",
      "memory usage: 1.0+ MB\n"
     ]
    }
   ],
   "source": [
    "# Print the dataframe information after cleaning\n",
    "df_google_form_secondary_updated.info()"
   ]
  },
  {
   "cell_type": "code",
   "execution_count": 43,
   "metadata": {},
   "outputs": [
    {
     "data": {
      "text/plain": [
       "Service Provided\n",
       "Programming                     6188\n",
       "Virginized/Reset Immobilizer     307\n",
       "Part Number/Sticker Check        250\n",
       "Cloning                          128\n",
       "Repair                           120\n",
       "Testing                            2\n",
       "Name: count, dtype: int64"
      ]
     },
     "execution_count": 43,
     "metadata": {},
     "output_type": "execute_result"
    }
   ],
   "source": [
    "# The column 'Service Provided' confirms if there are H numbers that need to be removed.\n",
    "# After checking the service type, the ones that need to be removed are:\n",
    "# Repair\n",
    "# Testing\n",
    "df_google_form_secondary_updated['Service Provided'].value_counts()"
   ]
  },
  {
   "cell_type": "code",
   "execution_count": 44,
   "metadata": {},
   "outputs": [],
   "source": [
    "# Filter the dataframe with only the service types needed \n",
    "df_google_form_secondary_servtype_needed = df_google_form_secondary_updated[df_google_form_secondary_updated['Service Provided'].isin(['Programming', 'Virginized/Reset Immobilizer', 'Part Number/Sticker Check', 'Cloning'])]"
   ]
  },
  {
   "cell_type": "code",
   "execution_count": 45,
   "metadata": {},
   "outputs": [
    {
     "name": "stderr",
     "output_type": "stream",
     "text": [
      "C:\\Users\\Weverson Barbieri\\AppData\\Local\\Temp\\ipykernel_12792\\141029693.py:2: SettingWithCopyWarning: \n",
      "A value is trying to be set on a copy of a slice from a DataFrame.\n",
      "Try using .loc[row_indexer,col_indexer] = value instead\n",
      "\n",
      "See the caveats in the documentation: https://pandas.pydata.org/pandas-docs/stable/user_guide/indexing.html#returning-a-view-versus-a-copy\n",
      "  df_google_form_secondary_servtype_needed['h_number_in_google_form'] = df_google_form_secondary_servtype_needed['H Number'].isin(df_google_form_filtered['H Number'])\n"
     ]
    }
   ],
   "source": [
    "# Check mark with True the H numbers that are in the df_google_form_filtered as well as in the df_google_form_secondary_servtype_needed to be filtered\n",
    "df_google_form_secondary_servtype_needed['h_number_in_google_form'] = df_google_form_secondary_servtype_needed['H Number'].isin(df_google_form_filtered['H Number'])"
   ]
  },
  {
   "cell_type": "code",
   "execution_count": 46,
   "metadata": {},
   "outputs": [
    {
     "data": {
      "text/plain": [
       "h_number_in_google_form\n",
       "False    6553\n",
       "True      320\n",
       "Name: count, dtype: int64"
      ]
     },
     "execution_count": 46,
     "metadata": {},
     "output_type": "execute_result"
    }
   ],
   "source": [
    "# Check the value counts of the new column\n",
    "df_google_form_secondary_servtype_needed['h_number_in_google_form'].value_counts()"
   ]
  },
  {
   "cell_type": "code",
   "execution_count": 47,
   "metadata": {},
   "outputs": [],
   "source": [
    "# Filter in one unique column \"H Number\" with the values showing as true (the method loc creates a unique column, in this case the column \"H Number\")\n",
    "df_google_form_secondary_hnumber_true = df_google_form_secondary_servtype_needed[df_google_form_secondary_servtype_needed['h_number_in_google_form'].isin([True])]"
   ]
  },
  {
   "cell_type": "code",
   "execution_count": 48,
   "metadata": {},
   "outputs": [
    {
     "name": "stderr",
     "output_type": "stream",
     "text": [
      "C:\\Users\\Weverson Barbieri\\AppData\\Local\\Temp\\ipykernel_12792\\3381129725.py:2: SettingWithCopyWarning: \n",
      "A value is trying to be set on a copy of a slice from a DataFrame.\n",
      "Try using .loc[row_indexer,col_indexer] = value instead\n",
      "\n",
      "See the caveats in the documentation: https://pandas.pydata.org/pandas-docs/stable/user_guide/indexing.html#returning-a-view-versus-a-copy\n",
      "  df_google_form_secondary_hnumber_true['duplicated_accounts'] = df_google_form_secondary_hnumber_true.duplicated(subset=\"H Number\", keep=False)\n"
     ]
    }
   ],
   "source": [
    "# Create a column to show \"true or false\" if the account is duplicated\n",
    "df_google_form_secondary_hnumber_true['duplicated_accounts'] = df_google_form_secondary_hnumber_true.duplicated(subset=\"H Number\", keep=False)"
   ]
  },
  {
   "cell_type": "code",
   "execution_count": 49,
   "metadata": {},
   "outputs": [
    {
     "data": {
      "text/plain": [
       "duplicated_accounts\n",
       "False    266\n",
       "True      54\n",
       "Name: count, dtype: int64"
      ]
     },
     "execution_count": 49,
     "metadata": {},
     "output_type": "execute_result"
    }
   ],
   "source": [
    "# Check the value of dupicated accounts to keep the ones that are ducplicated\n",
    "df_google_form_secondary_hnumber_true['duplicated_accounts'].value_counts()"
   ]
  },
  {
   "cell_type": "code",
   "execution_count": 50,
   "metadata": {},
   "outputs": [],
   "source": [
    "# Create a new dataframe with the duplicated accounts\n",
    "df_google_form_duplicated_account = df_google_form_secondary_hnumber_true[df_google_form_secondary_hnumber_true['duplicated_accounts'] == True]"
   ]
  },
  {
   "cell_type": "code",
   "execution_count": 51,
   "metadata": {},
   "outputs": [],
   "source": [
    "# Create a new dataframe with non-duplicated accounts\n",
    "df_google_form_secondary_non_duplicated = df_google_form_secondary_hnumber_true[df_google_form_secondary_hnumber_true['duplicated_accounts'] == False]"
   ]
  },
  {
   "cell_type": "code",
   "execution_count": 52,
   "metadata": {},
   "outputs": [
    {
     "name": "stderr",
     "output_type": "stream",
     "text": [
      "C:\\Users\\Weverson Barbieri\\AppData\\Local\\Temp\\ipykernel_12792\\171079686.py:2: SettingWithCopyWarning: \n",
      "A value is trying to be set on a copy of a slice from a DataFrame.\n",
      "Try using .loc[row_indexer,col_indexer] = value instead\n",
      "\n",
      "See the caveats in the documentation: https://pandas.pydata.org/pandas-docs/stable/user_guide/indexing.html#returning-a-view-versus-a-copy\n",
      "  df_google_form_duplicated_account['new_hnumber'] = df_google_form_duplicated_account.groupby('H Number').cumcount().astype(str).radd(df_google_form_duplicated_account['H Number'] + '.')\n"
     ]
    }
   ],
   "source": [
    "# Add an incremental number to the duplicated accounts and a new column to show a sequence starting with 0\n",
    "df_google_form_duplicated_account['new_hnumber'] = df_google_form_duplicated_account.groupby('H Number').cumcount().astype(str).radd(df_google_form_duplicated_account['H Number'] + '.')"
   ]
  },
  {
   "cell_type": "code",
   "execution_count": 53,
   "metadata": {},
   "outputs": [],
   "source": [
    "# Concatenate the duplicated accounts with the non-duplicated accounts\n",
    "df_google_form_secondary_updated = pd.concat([df_google_form_duplicated_account, df_google_form_secondary_non_duplicated], ignore_index=True)"
   ]
  },
  {
   "cell_type": "code",
   "execution_count": 54,
   "metadata": {},
   "outputs": [
    {
     "name": "stdout",
     "output_type": "stream",
     "text": [
      "<class 'pandas.core.frame.DataFrame'>\n",
      "RangeIndex: 320 entries, 0 to 319\n",
      "Data columns (total 22 columns):\n",
      " #   Column                           Non-Null Count  Dtype \n",
      "---  ------                           --------------  ----- \n",
      " 0   Timestamp                        320 non-null    object\n",
      " 1   Technician                       320 non-null    object\n",
      " 2   H Number                         320 non-null    object\n",
      " 3   Is this a replacement?           320 non-null    object\n",
      " 4   Year                             320 non-null    int64 \n",
      " 5   Make                             320 non-null    object\n",
      " 6   Model                            320 non-null    object\n",
      " 7   Engine Size                      319 non-null    object\n",
      " 8   VIN                              320 non-null    object\n",
      " 9   Module Type                      320 non-null    object\n",
      " 10  Service Provided                 320 non-null    object\n",
      " 11  Original Problem(s)              319 non-null    object\n",
      " 12  DTCs on original unit            246 non-null    object\n",
      " 13  Current Problem(s)               320 non-null    object\n",
      " 14  DTCs on our unit                 246 non-null    object\n",
      " 15  Problems Related?                320 non-null    object\n",
      " 16  Diagnosed properly by Customer?  320 non-null    object\n",
      " 17  Additional Notes                 192 non-null    object\n",
      " 18  Resolution:                      320 non-null    object\n",
      " 19  h_number_in_google_form          320 non-null    bool  \n",
      " 20  duplicated_accounts              320 non-null    bool  \n",
      " 21  new_hnumber                      54 non-null     object\n",
      "dtypes: bool(2), int64(1), object(19)\n",
      "memory usage: 50.8+ KB\n"
     ]
    }
   ],
   "source": [
    "# Check the new dataframe updated after concatenate\n",
    "df_google_form_secondary_updated.info()"
   ]
  },
  {
   "cell_type": "code",
   "execution_count": 55,
   "metadata": {},
   "outputs": [],
   "source": [
    "# Fill out the new_h_number column empty rows with the values from the column 'H Number'(non-duplicated accounts) \n",
    "df_google_form_secondary_updated['new_hnumber'] = df_google_form_secondary_updated['new_hnumber'].fillna(df_google_form_secondary_updated['H Number'])"
   ]
  },
  {
   "cell_type": "code",
   "execution_count": 56,
   "metadata": {},
   "outputs": [],
   "source": [
    "# Update the df_google_form dropping the last columns\n",
    "df_google_form_secondary_dropped_column = df_google_form_secondary_updated.drop(columns=['H Number', 'duplicated_accounts'])"
   ]
  },
  {
   "cell_type": "code",
   "execution_count": 57,
   "metadata": {},
   "outputs": [],
   "source": [
    "# Rename the column 'new_hnumber' to 'H Number'\n",
    "df_google_form_secondary_final_ver = df_google_form_secondary_dropped_column.rename(columns={'new_hnumber': 'H Number'})"
   ]
  },
  {
   "cell_type": "code",
   "execution_count": 58,
   "metadata": {},
   "outputs": [
    {
     "name": "stdout",
     "output_type": "stream",
     "text": [
      "<class 'pandas.core.frame.DataFrame'>\n",
      "RangeIndex: 320 entries, 0 to 319\n",
      "Data columns (total 20 columns):\n",
      " #   Column                           Non-Null Count  Dtype \n",
      "---  ------                           --------------  ----- \n",
      " 0   Timestamp                        320 non-null    object\n",
      " 1   Technician                       320 non-null    object\n",
      " 2   Is this a replacement?           320 non-null    object\n",
      " 3   Year                             320 non-null    int64 \n",
      " 4   Make                             320 non-null    object\n",
      " 5   Model                            320 non-null    object\n",
      " 6   Engine Size                      319 non-null    object\n",
      " 7   VIN                              320 non-null    object\n",
      " 8   Module Type                      320 non-null    object\n",
      " 9   Service Provided                 320 non-null    object\n",
      " 10  Original Problem(s)              319 non-null    object\n",
      " 11  DTCs on original unit            246 non-null    object\n",
      " 12  Current Problem(s)               320 non-null    object\n",
      " 13  DTCs on our unit                 246 non-null    object\n",
      " 14  Problems Related?                320 non-null    object\n",
      " 15  Diagnosed properly by Customer?  320 non-null    object\n",
      " 16  Additional Notes                 192 non-null    object\n",
      " 17  Resolution:                      320 non-null    object\n",
      " 18  h_number_in_google_form          320 non-null    bool  \n",
      " 19  H Number                         320 non-null    object\n",
      "dtypes: bool(1), int64(1), object(18)\n",
      "memory usage: 47.9+ KB\n"
     ]
    }
   ],
   "source": [
    "# Check the df after all updates\n",
    "df_google_form_secondary_final_ver.info()"
   ]
  },
  {
   "cell_type": "code",
   "execution_count": 59,
   "metadata": {},
   "outputs": [
    {
     "name": "stderr",
     "output_type": "stream",
     "text": [
      "C:\\Users\\Weverson Barbieri\\AppData\\Local\\Temp\\ipykernel_12792\\1315059525.py:2: SettingWithCopyWarning: \n",
      "A value is trying to be set on a copy of a slice from a DataFrame.\n",
      "Try using .loc[row_indexer,col_indexer] = value instead\n",
      "\n",
      "See the caveats in the documentation: https://pandas.pydata.org/pandas-docs/stable/user_guide/indexing.html#returning-a-view-versus-a-copy\n",
      "  df_google_form_filtered['h_number_true'] = df_google_form_filtered['H Number'].isin(df_google_form_secondary_final_ver['H Number'])\n"
     ]
    }
   ],
   "source": [
    "# Check mark with True the H Numbers that are in the main df 'df_google_form_filtered' and in the df 'df_google_form_secondary_final_ver'\n",
    "df_google_form_filtered['h_number_true'] = df_google_form_filtered['H Number'].isin(df_google_form_secondary_final_ver['H Number'])"
   ]
  },
  {
   "cell_type": "code",
   "execution_count": 60,
   "metadata": {},
   "outputs": [
    {
     "name": "stderr",
     "output_type": "stream",
     "text": [
      "C:\\Users\\Weverson Barbieri\\AppData\\Local\\Temp\\ipykernel_12792\\4019353263.py:2: SettingWithCopyWarning: \n",
      "A value is trying to be set on a copy of a slice from a DataFrame.\n",
      "Try using .loc[row_indexer,col_indexer] = value instead\n",
      "\n",
      "See the caveats in the documentation: https://pandas.pydata.org/pandas-docs/stable/user_guide/indexing.html#returning-a-view-versus-a-copy\n",
      "  df_google_form_filtered['Original Problems'] = pd.NA\n",
      "C:\\Users\\Weverson Barbieri\\AppData\\Local\\Temp\\ipykernel_12792\\4019353263.py:3: SettingWithCopyWarning: \n",
      "A value is trying to be set on a copy of a slice from a DataFrame.\n",
      "Try using .loc[row_indexer,col_indexer] = value instead\n",
      "\n",
      "See the caveats in the documentation: https://pandas.pydata.org/pandas-docs/stable/user_guide/indexing.html#returning-a-view-versus-a-copy\n",
      "  df_google_form_filtered['Original DTCs'] = pd.NA\n",
      "C:\\Users\\Weverson Barbieri\\AppData\\Local\\Temp\\ipykernel_12792\\4019353263.py:4: SettingWithCopyWarning: \n",
      "A value is trying to be set on a copy of a slice from a DataFrame.\n",
      "Try using .loc[row_indexer,col_indexer] = value instead\n",
      "\n",
      "See the caveats in the documentation: https://pandas.pydata.org/pandas-docs/stable/user_guide/indexing.html#returning-a-view-versus-a-copy\n",
      "  df_google_form_filtered['FS1 ECU Problems'] = pd.NA\n",
      "C:\\Users\\Weverson Barbieri\\AppData\\Local\\Temp\\ipykernel_12792\\4019353263.py:5: SettingWithCopyWarning: \n",
      "A value is trying to be set on a copy of a slice from a DataFrame.\n",
      "Try using .loc[row_indexer,col_indexer] = value instead\n",
      "\n",
      "See the caveats in the documentation: https://pandas.pydata.org/pandas-docs/stable/user_guide/indexing.html#returning-a-view-versus-a-copy\n",
      "  df_google_form_filtered['FS1 DTCs'] = pd.NA\n",
      "C:\\Users\\Weverson Barbieri\\AppData\\Local\\Temp\\ipykernel_12792\\4019353263.py:6: SettingWithCopyWarning: \n",
      "A value is trying to be set on a copy of a slice from a DataFrame.\n",
      "Try using .loc[row_indexer,col_indexer] = value instead\n",
      "\n",
      "See the caveats in the documentation: https://pandas.pydata.org/pandas-docs/stable/user_guide/indexing.html#returning-a-view-versus-a-copy\n",
      "  df_google_form_filtered['FS1/Original Problems Related'] = pd.NA\n",
      "C:\\Users\\Weverson Barbieri\\AppData\\Local\\Temp\\ipykernel_12792\\4019353263.py:7: SettingWithCopyWarning: \n",
      "A value is trying to be set on a copy of a slice from a DataFrame.\n",
      "Try using .loc[row_indexer,col_indexer] = value instead\n",
      "\n",
      "See the caveats in the documentation: https://pandas.pydata.org/pandas-docs/stable/user_guide/indexing.html#returning-a-view-versus-a-copy\n",
      "  df_google_form_filtered['Additional Notes'] = pd.NA\n",
      "C:\\Users\\Weverson Barbieri\\AppData\\Local\\Temp\\ipykernel_12792\\4019353263.py:8: SettingWithCopyWarning: \n",
      "A value is trying to be set on a copy of a slice from a DataFrame.\n",
      "Try using .loc[row_indexer,col_indexer] = value instead\n",
      "\n",
      "See the caveats in the documentation: https://pandas.pydata.org/pandas-docs/stable/user_guide/indexing.html#returning-a-view-versus-a-copy\n",
      "  df_google_form_filtered['Resolution'] = pd.NA\n"
     ]
    }
   ],
   "source": [
    "# Create new columns to receive the values\n",
    "df_google_form_filtered['Original Problems'] = pd.NA\n",
    "df_google_form_filtered['Original DTCs'] = pd.NA\n",
    "df_google_form_filtered['FS1 ECU Problems'] = pd.NA\n",
    "df_google_form_filtered['FS1 DTCs'] = pd.NA\n",
    "df_google_form_filtered['FS1/Original Problems Related'] = pd.NA\n",
    "df_google_form_filtered['Additional Notes'] = pd.NA\n",
    "df_google_form_filtered['Resolution'] = pd.NA"
   ]
  },
  {
   "cell_type": "code",
   "execution_count": 61,
   "metadata": {},
   "outputs": [
    {
     "data": {
      "text/plain": [
       "Index(['Created Time', 'H Number', 'Entry Type', 'Technician', 'Source',\n",
       "       'Year', 'Make', 'Model', 'Engine Size', 'HW #', 'Part #', 'Notes',\n",
       "       'h_number_true', 'Original Problems', 'Original DTCs',\n",
       "       'FS1 ECU Problems', 'FS1 DTCs', 'FS1/Original Problems Related',\n",
       "       'Additional Notes', 'Resolution'],\n",
       "      dtype='object')"
      ]
     },
     "execution_count": 61,
     "metadata": {},
     "output_type": "execute_result"
    }
   ],
   "source": [
    "# See the columns of the googgle form filtered to copy them to the map\n",
    "df_google_form_filtered.columns"
   ]
  },
  {
   "cell_type": "code",
   "execution_count": 62,
   "metadata": {},
   "outputs": [
    {
     "data": {
      "text/plain": [
       "Index(['Timestamp', 'Technician', 'Is this a replacement?', 'Year', 'Make',\n",
       "       'Model', 'Engine Size', 'VIN', 'Module Type', 'Service Provided',\n",
       "       'Original Problem(s)', 'DTCs on original unit', 'Current Problem(s)',\n",
       "       'DTCs on our unit', 'Problems Related?',\n",
       "       'Diagnosed properly by Customer?', 'Additional Notes', 'Resolution:',\n",
       "       'h_number_in_google_form', 'H Number'],\n",
       "      dtype='object')"
      ]
     },
     "execution_count": 62,
     "metadata": {},
     "output_type": "execute_result"
    }
   ],
   "source": [
    "# See the columns of the googgle form filtered to copy them to the map\n",
    "df_google_form_secondary_final_ver.columns"
   ]
  },
  {
   "cell_type": "code",
   "execution_count": 63,
   "metadata": {},
   "outputs": [],
   "source": [
    "# Create a dict to map the columns from the google form to the main dataframe\n",
    "columns_mapping = {\n",
    "     'Original Problem(s)': 'Original Problems',\n",
    "     'DTCs on original unit': 'Original DTCs',\n",
    "     'Current Problem(s)': 'FS1 ECU Problems',\n",
    "     'DTCs on our unit': 'FS1 DTCs',\n",
    "      'Problems Related?': 'FS1/Original Problems Related',\n",
    "     'Additional Notes': 'Additional Notes',\n",
    "      'Resolution:': 'Resolution'\n",
    "}"
   ]
  },
  {
   "cell_type": "code",
   "execution_count": 64,
   "metadata": {},
   "outputs": [],
   "source": [
    "# Loop to fill out 320 empty rows in the df_google_form_filtered from a secondary dataframe \n",
    "for google_col, main_df_col in columns_mapping.items():\n",
    "    df_google_form_filtered.loc[df_google_form_filtered['h_number_true'], main_df_col] = df_google_form_filtered['H Number'].map(\n",
    "        df_google_form_secondary_final_ver.set_index('H Number')[google_col])"
   ]
  },
  {
   "cell_type": "code",
   "execution_count": 65,
   "metadata": {},
   "outputs": [
    {
     "data": {
      "text/html": [
       "<div>\n",
       "<style scoped>\n",
       "    .dataframe tbody tr th:only-of-type {\n",
       "        vertical-align: middle;\n",
       "    }\n",
       "\n",
       "    .dataframe tbody tr th {\n",
       "        vertical-align: top;\n",
       "    }\n",
       "\n",
       "    .dataframe thead th {\n",
       "        text-align: right;\n",
       "    }\n",
       "</style>\n",
       "<table border=\"1\" class=\"dataframe\">\n",
       "  <thead>\n",
       "    <tr style=\"text-align: right;\">\n",
       "      <th></th>\n",
       "      <th>Created Time</th>\n",
       "      <th>H Number</th>\n",
       "      <th>Entry Type</th>\n",
       "      <th>Technician</th>\n",
       "      <th>Source</th>\n",
       "      <th>Year</th>\n",
       "      <th>Make</th>\n",
       "      <th>Model</th>\n",
       "      <th>Engine Size</th>\n",
       "      <th>HW #</th>\n",
       "      <th>Part #</th>\n",
       "      <th>Notes</th>\n",
       "      <th>h_number_true</th>\n",
       "      <th>Original Problems</th>\n",
       "      <th>Original DTCs</th>\n",
       "      <th>FS1 ECU Problems</th>\n",
       "      <th>FS1 DTCs</th>\n",
       "      <th>FS1/Original Problems Related</th>\n",
       "      <th>Additional Notes</th>\n",
       "      <th>Resolution</th>\n",
       "    </tr>\n",
       "  </thead>\n",
       "  <tbody>\n",
       "    <tr>\n",
       "      <th>0</th>\n",
       "      <td>Aug 22, 2022 03:56 PM</td>\n",
       "      <td>H1055330</td>\n",
       "      <td>RMA Pre-Screen</td>\n",
       "      <td>Weverson</td>\n",
       "      <td>S161243</td>\n",
       "      <td>2003.0</td>\n",
       "      <td>Infiniti</td>\n",
       "      <td>QX4</td>\n",
       "      <td>3.5L</td>\n",
       "      <td>MEC14-800 B1</td>\n",
       "      <td>23710-6W100</td>\n",
       "      <td>&lt;b&gt;Summary:&lt;/b&gt;\\n&lt;br&gt;Original Problem: the veh...</td>\n",
       "      <td>False</td>\n",
       "      <td>&lt;NA&gt;</td>\n",
       "      <td>&lt;NA&gt;</td>\n",
       "      <td>&lt;NA&gt;</td>\n",
       "      <td>&lt;NA&gt;</td>\n",
       "      <td>&lt;NA&gt;</td>\n",
       "      <td>&lt;NA&gt;</td>\n",
       "      <td>&lt;NA&gt;</td>\n",
       "    </tr>\n",
       "    <tr>\n",
       "      <th>3</th>\n",
       "      <td>Jul 21, 2023 09:13 AM</td>\n",
       "      <td>H978512</td>\n",
       "      <td>RMA Pre-Screen</td>\n",
       "      <td>NaN</td>\n",
       "      <td>S75855</td>\n",
       "      <td>2001.0</td>\n",
       "      <td>Dodge</td>\n",
       "      <td>Intrepid</td>\n",
       "      <td>3.5L</td>\n",
       "      <td>4896541AA</td>\n",
       "      <td>NaN</td>\n",
       "      <td>&lt;font color=”blue”&gt;&lt;b&gt;Weverson&lt;/b&gt;&lt;p&gt;&lt;/font&gt;\\n...</td>\n",
       "      <td>False</td>\n",
       "      <td>&lt;NA&gt;</td>\n",
       "      <td>&lt;NA&gt;</td>\n",
       "      <td>&lt;NA&gt;</td>\n",
       "      <td>&lt;NA&gt;</td>\n",
       "      <td>&lt;NA&gt;</td>\n",
       "      <td>&lt;NA&gt;</td>\n",
       "      <td>&lt;NA&gt;</td>\n",
       "    </tr>\n",
       "    <tr>\n",
       "      <th>5</th>\n",
       "      <td>Apr 11, 2022 02:49 PM</td>\n",
       "      <td>H980337</td>\n",
       "      <td>RMA Pre-Screen</td>\n",
       "      <td>NaN</td>\n",
       "      <td>S143888</td>\n",
       "      <td>2010.0</td>\n",
       "      <td>Dodge</td>\n",
       "      <td>Journey</td>\n",
       "      <td>3.5L</td>\n",
       "      <td>05150469~, 05150244AC-D</td>\n",
       "      <td>05150244AD</td>\n",
       "      <td>&lt;font color=”blue”&gt;&lt;b&gt;Adeosun.o&lt;/b&gt;&lt;p&gt;&lt;/font&gt; ...</td>\n",
       "      <td>False</td>\n",
       "      <td>&lt;NA&gt;</td>\n",
       "      <td>&lt;NA&gt;</td>\n",
       "      <td>&lt;NA&gt;</td>\n",
       "      <td>&lt;NA&gt;</td>\n",
       "      <td>&lt;NA&gt;</td>\n",
       "      <td>&lt;NA&gt;</td>\n",
       "      <td>&lt;NA&gt;</td>\n",
       "    </tr>\n",
       "    <tr>\n",
       "      <th>6</th>\n",
       "      <td>Jul 11, 2023 02:01 PM</td>\n",
       "      <td>H1231423</td>\n",
       "      <td>RMA Pre-Screen</td>\n",
       "      <td>Adeosun</td>\n",
       "      <td>S205276</td>\n",
       "      <td>2005.0</td>\n",
       "      <td>Dodge</td>\n",
       "      <td>Ram Truck (Cummins)</td>\n",
       "      <td>5.9L</td>\n",
       "      <td>CM848E_05AT</td>\n",
       "      <td>3975243</td>\n",
       "      <td>Problem(s) experienced with the original unit:...</td>\n",
       "      <td>False</td>\n",
       "      <td>&lt;NA&gt;</td>\n",
       "      <td>&lt;NA&gt;</td>\n",
       "      <td>&lt;NA&gt;</td>\n",
       "      <td>&lt;NA&gt;</td>\n",
       "      <td>&lt;NA&gt;</td>\n",
       "      <td>&lt;NA&gt;</td>\n",
       "      <td>&lt;NA&gt;</td>\n",
       "    </tr>\n",
       "    <tr>\n",
       "      <th>7</th>\n",
       "      <td>Jul 11, 2023 03:15 PM</td>\n",
       "      <td>H1257020</td>\n",
       "      <td>RMA Pre-Screen</td>\n",
       "      <td>Tavasika C</td>\n",
       "      <td>S215764</td>\n",
       "      <td>2003.0</td>\n",
       "      <td>Saturn</td>\n",
       "      <td>L-Series</td>\n",
       "      <td>3.0L</td>\n",
       "      <td>NaN</td>\n",
       "      <td>09153242</td>\n",
       "      <td>Account #: H1257020:1\\nProblem(s) experienced ...</td>\n",
       "      <td>False</td>\n",
       "      <td>&lt;NA&gt;</td>\n",
       "      <td>&lt;NA&gt;</td>\n",
       "      <td>&lt;NA&gt;</td>\n",
       "      <td>&lt;NA&gt;</td>\n",
       "      <td>&lt;NA&gt;</td>\n",
       "      <td>&lt;NA&gt;</td>\n",
       "      <td>&lt;NA&gt;</td>\n",
       "    </tr>\n",
       "  </tbody>\n",
       "</table>\n",
       "</div>"
      ],
      "text/plain": [
       "            Created Time  H Number      Entry Type  Technician   Source  \\\n",
       "0  Aug 22, 2022 03:56 PM  H1055330  RMA Pre-Screen    Weverson  S161243   \n",
       "3  Jul 21, 2023 09:13 AM   H978512  RMA Pre-Screen         NaN   S75855   \n",
       "5  Apr 11, 2022 02:49 PM   H980337  RMA Pre-Screen         NaN  S143888   \n",
       "6  Jul 11, 2023 02:01 PM  H1231423  RMA Pre-Screen     Adeosun  S205276   \n",
       "7  Jul 11, 2023 03:15 PM  H1257020  RMA Pre-Screen  Tavasika C  S215764   \n",
       "\n",
       "     Year      Make                Model Engine Size                     HW #  \\\n",
       "0  2003.0  Infiniti                  QX4        3.5L             MEC14-800 B1   \n",
       "3  2001.0     Dodge             Intrepid        3.5L                4896541AA   \n",
       "5  2010.0     Dodge              Journey        3.5L  05150469~, 05150244AC-D   \n",
       "6  2005.0     Dodge  Ram Truck (Cummins)        5.9L              CM848E_05AT   \n",
       "7  2003.0    Saturn             L-Series        3.0L                      NaN   \n",
       "\n",
       "        Part #                                              Notes  \\\n",
       "0  23710-6W100  <b>Summary:</b>\\n<br>Original Problem: the veh...   \n",
       "3          NaN  <font color=”blue”><b>Weverson</b><p></font>\\n...   \n",
       "5   05150244AD  <font color=”blue”><b>Adeosun.o</b><p></font> ...   \n",
       "6      3975243  Problem(s) experienced with the original unit:...   \n",
       "7     09153242  Account #: H1257020:1\\nProblem(s) experienced ...   \n",
       "\n",
       "   h_number_true Original Problems Original DTCs FS1 ECU Problems FS1 DTCs  \\\n",
       "0          False              <NA>          <NA>             <NA>     <NA>   \n",
       "3          False              <NA>          <NA>             <NA>     <NA>   \n",
       "5          False              <NA>          <NA>             <NA>     <NA>   \n",
       "6          False              <NA>          <NA>             <NA>     <NA>   \n",
       "7          False              <NA>          <NA>             <NA>     <NA>   \n",
       "\n",
       "  FS1/Original Problems Related Additional Notes Resolution  \n",
       "0                          <NA>             <NA>       <NA>  \n",
       "3                          <NA>             <NA>       <NA>  \n",
       "5                          <NA>             <NA>       <NA>  \n",
       "6                          <NA>             <NA>       <NA>  \n",
       "7                          <NA>             <NA>       <NA>  "
      ]
     },
     "execution_count": 65,
     "metadata": {},
     "output_type": "execute_result"
    }
   ],
   "source": [
    "# Print the head of the dataframe\n",
    "df_google_form_filtered[df_google_form_filtered['h_number_true'] == False].head(5)"
   ]
  },
  {
   "cell_type": "code",
   "execution_count": 66,
   "metadata": {},
   "outputs": [
    {
     "data": {
      "text/plain": [
       "np.int64(46)"
      ]
     },
     "execution_count": 66,
     "metadata": {},
     "output_type": "execute_result"
    }
   ],
   "source": [
    "# Confirm if the column 'Notes' has null values\n",
    "df_google_form_filtered['Notes'].isnull().sum()"
   ]
  },
  {
   "cell_type": "code",
   "execution_count": 67,
   "metadata": {},
   "outputs": [],
   "source": [
    "# Drop the H Numbers with null values in the column 'Notes'\n",
    "df_google_form_dropped_null_notes = df_google_form_filtered.dropna(subset=['Notes'])"
   ]
  },
  {
   "cell_type": "code",
   "execution_count": 68,
   "metadata": {},
   "outputs": [
    {
     "name": "stdout",
     "output_type": "stream",
     "text": [
      "<class 'pandas.core.frame.DataFrame'>\n",
      "Index: 1716 entries, 0 to 8387\n",
      "Data columns (total 20 columns):\n",
      " #   Column                         Non-Null Count  Dtype  \n",
      "---  ------                         --------------  -----  \n",
      " 0   Created Time                   1716 non-null   object \n",
      " 1   H Number                       1716 non-null   object \n",
      " 2   Entry Type                     1716 non-null   object \n",
      " 3   Technician                     1664 non-null   object \n",
      " 4   Source                         1716 non-null   object \n",
      " 5   Year                           1716 non-null   float64\n",
      " 6   Make                           1716 non-null   object \n",
      " 7   Model                          1716 non-null   object \n",
      " 8   Engine Size                    1667 non-null   object \n",
      " 9   HW #                           1489 non-null   object \n",
      " 10  Part #                         1610 non-null   object \n",
      " 11  Notes                          1716 non-null   object \n",
      " 12  h_number_true                  1716 non-null   bool   \n",
      " 13  Original Problems              307 non-null    object \n",
      " 14  Original DTCs                  231 non-null    object \n",
      " 15  FS1 ECU Problems               308 non-null    object \n",
      " 16  FS1 DTCs                       231 non-null    object \n",
      " 17  FS1/Original Problems Related  308 non-null    object \n",
      " 18  Additional Notes               192 non-null    object \n",
      " 19  Resolution                     308 non-null    object \n",
      "dtypes: bool(1), float64(1), object(18)\n",
      "memory usage: 269.8+ KB\n"
     ]
    }
   ],
   "source": [
    "# Check the df info after removing the null notes\n",
    "df_google_form_dropped_null_notes.info() "
   ]
  },
  {
   "cell_type": "code",
   "execution_count": 69,
   "metadata": {},
   "outputs": [
    {
     "name": "stdout",
     "output_type": "stream",
     "text": [
      "Account #: H991898\n",
      "Problem(s) experienced with the original unit: No start\n",
      "DTCs present with original unit:\n",
      "does not recall\n",
      "\n",
      "Problem(s) experienced with the unit we've provided: After a year, not starting, no injector pulse\n",
      "DTCs present with unit we've provided:\n",
      "no dtcs\n",
      "Are the original and current problems related? No\n",
      "Were the appropriate diagnostic steps followed? Yes\n",
      "\n",
      "Additional Notes: Let us return our unit and test injector drivers\n",
      "\n",
      "Resolution: Return unit to testing department\n"
     ]
    }
   ],
   "source": [
    "# Print the index 9 to confirm the strings that can be used as a regex during extraction\n",
    "print(df_google_form_dropped_null_notes['Notes'][9])"
   ]
  },
  {
   "cell_type": "markdown",
   "metadata": {},
   "source": [
    "ORIGINAL PROBLEMS EXTRACTION"
   ]
  },
  {
   "cell_type": "code",
   "execution_count": 70,
   "metadata": {},
   "outputs": [],
   "source": [
    "# Extract the original problem from column notes and name the column as 0 [0]\n",
    "original_problem_extracted = df_google_form_dropped_null_notes['Notes'].str.extract(r'(Problem\\(s\\) experienced with the original unit:.*?)(?=DTCs present with original)', flags=re.IGNORECASE | re.DOTALL)[0]"
   ]
  },
  {
   "cell_type": "code",
   "execution_count": 71,
   "metadata": {},
   "outputs": [],
   "source": [
    "# Get only the indexes with values\n",
    "original_problem_indexes = original_problem_extracted.dropna().index"
   ]
  },
  {
   "cell_type": "code",
   "execution_count": 72,
   "metadata": {},
   "outputs": [],
   "source": [
    "# Create a mask with the indexes where the values were extrated and if rows have null values\n",
    "original_problem_mask = (df_google_form_dropped_null_notes.index.isin(original_problem_indexes)) & (df_google_form_dropped_null_notes['Original Problems'].isna())"
   ]
  },
  {
   "cell_type": "code",
   "execution_count": 73,
   "metadata": {},
   "outputs": [],
   "source": [
    "# Update the main df with the original problem where the rows are null\n",
    "df_google_form_dropped_null_notes.loc[original_problem_mask, 'Original Problems'] = original_problem_extracted[original_problem_mask]"
   ]
  },
  {
   "cell_type": "markdown",
   "metadata": {},
   "source": [
    "ORIGINAL DTCs EXTRACTION"
   ]
  },
  {
   "cell_type": "code",
   "execution_count": 74,
   "metadata": {},
   "outputs": [
    {
     "name": "stdout",
     "output_type": "stream",
     "text": [
      "Account #: H991898\n",
      "Problem(s) experienced with the original unit: No start\n",
      "DTCs present with original unit:\n",
      "does not recall\n",
      "\n",
      "Problem(s) experienced with the unit we've provided: After a year, not starting, no injector pulse\n",
      "DTCs present with unit we've provided:\n",
      "no dtcs\n",
      "Are the original and current problems related? No\n",
      "Were the appropriate diagnostic steps followed? Yes\n",
      "\n",
      "Additional Notes: Let us return our unit and test injector drivers\n",
      "\n",
      "Resolution: Return unit to testing department\n"
     ]
    }
   ],
   "source": [
    "# Print one of the notes to get the regex to be used as delimiter\n",
    "print(df_google_form_dropped_null_notes['Notes'][9])"
   ]
  },
  {
   "cell_type": "code",
   "execution_count": 75,
   "metadata": {},
   "outputs": [
    {
     "name": "stderr",
     "output_type": "stream",
     "text": [
      "<>:2: SyntaxWarning: invalid escape sequence '\\('\n",
      "<>:2: SyntaxWarning: invalid escape sequence '\\('\n",
      "C:\\Users\\Weverson Barbieri\\AppData\\Local\\Temp\\ipykernel_12792\\3164600798.py:2: SyntaxWarning: invalid escape sequence '\\('\n",
      "  original_dtcs_extracted = df_google_form_dropped_null_notes['Notes'].str.extract(f'(DTCs present with original unit:.*?)(?=Problem\\(s\\) experienced with the unit)', flags=re.IGNORECASE | re.DOTALL)\n"
     ]
    }
   ],
   "source": [
    "# Extract the original dtcs\n",
    "original_dtcs_extracted = df_google_form_dropped_null_notes['Notes'].str.extract(f'(DTCs present with original unit:.*?)(?=Problem\\(s\\) experienced with the unit)', flags=re.IGNORECASE | re.DOTALL)"
   ]
  },
  {
   "cell_type": "code",
   "execution_count": 76,
   "metadata": {},
   "outputs": [],
   "source": [
    "# Get the indexes from the Series after extraction\n",
    "original_dtcs_indexes = original_dtcs_extracted.dropna().index"
   ]
  },
  {
   "cell_type": "code",
   "execution_count": 77,
   "metadata": {},
   "outputs": [],
   "source": [
    "# Create the original dtcs mask\n",
    "original_dtcs_mask = (df_google_form_dropped_null_notes.index.isin(original_dtcs_indexes)) & (df_google_form_dropped_null_notes['Original DTCs'].isna())"
   ]
  },
  {
   "cell_type": "code",
   "execution_count": 78,
   "metadata": {},
   "outputs": [],
   "source": [
    "# Update the main dataframe with the original dtcs only where the rows are null\n",
    "df_google_form_dropped_null_notes.loc[original_dtcs_mask, 'Original DTCs'] = original_dtcs_extracted.loc[original_dtcs_mask, 0]"
   ]
  },
  {
   "cell_type": "markdown",
   "metadata": {},
   "source": [
    "FS1 PROBLEMS EXTRACTION"
   ]
  },
  {
   "cell_type": "code",
   "execution_count": 79,
   "metadata": {},
   "outputs": [
    {
     "name": "stdout",
     "output_type": "stream",
     "text": [
      "Account #: H991898\n",
      "Problem(s) experienced with the original unit: No start\n",
      "DTCs present with original unit:\n",
      "does not recall\n",
      "\n",
      "Problem(s) experienced with the unit we've provided: After a year, not starting, no injector pulse\n",
      "DTCs present with unit we've provided:\n",
      "no dtcs\n",
      "Are the original and current problems related? No\n",
      "Were the appropriate diagnostic steps followed? Yes\n",
      "\n",
      "Additional Notes: Let us return our unit and test injector drivers\n",
      "\n",
      "Resolution: Return unit to testing department\n"
     ]
    }
   ],
   "source": [
    "# Print one of the notes to get the regex to be used as delimiter\n",
    "print(df_google_form_dropped_null_notes['Notes'][9])"
   ]
  },
  {
   "cell_type": "code",
   "execution_count": 80,
   "metadata": {},
   "outputs": [
    {
     "name": "stderr",
     "output_type": "stream",
     "text": [
      "<>:2: SyntaxWarning: invalid escape sequence '\\('\n",
      "<>:2: SyntaxWarning: invalid escape sequence '\\('\n",
      "C:\\Users\\Weverson Barbieri\\AppData\\Local\\Temp\\ipykernel_12792\\974250430.py:2: SyntaxWarning: invalid escape sequence '\\('\n",
      "  fs1_problems_extracted = df_google_form_dropped_null_notes['Notes'].str.extract(f'(Problem\\(s\\) experienced with the unit we.*?)(?=DTCs present with unit we)', flags=re.IGNORECASE | re.DOTALL)\n"
     ]
    }
   ],
   "source": [
    "# Extract the FS1 Unit problems\n",
    "fs1_problems_extracted = df_google_form_dropped_null_notes['Notes'].str.extract(f'(Problem\\(s\\) experienced with the unit we.*?)(?=DTCs present with unit we)', flags=re.IGNORECASE | re.DOTALL)"
   ]
  },
  {
   "cell_type": "code",
   "execution_count": 81,
   "metadata": {},
   "outputs": [],
   "source": [
    "# Get the indexes from the Series after extraction\n",
    "fs1_problems_indexes = fs1_problems_extracted.dropna().index"
   ]
  },
  {
   "cell_type": "code",
   "execution_count": 82,
   "metadata": {},
   "outputs": [],
   "source": [
    "# Create the original dtcs mask\n",
    "fs1_problems_mask = (df_google_form_dropped_null_notes.index.isin(fs1_problems_indexes)) & (df_google_form_dropped_null_notes['FS1 ECU Problems'].isna())"
   ]
  },
  {
   "cell_type": "code",
   "execution_count": 83,
   "metadata": {},
   "outputs": [],
   "source": [
    "# Update the main dataframe with the fs1 problems only where the rows are null\n",
    "df_google_form_dropped_null_notes.loc[fs1_problems_mask, 'FS1 ECU Problems'] = fs1_problems_extracted.loc[fs1_problems_mask, 0]"
   ]
  },
  {
   "cell_type": "markdown",
   "metadata": {},
   "source": [
    "FS1 DTCS EXTRACTION"
   ]
  },
  {
   "cell_type": "code",
   "execution_count": 84,
   "metadata": {},
   "outputs": [],
   "source": [
    "# Extract the FS1 DTCs\n",
    "fs1_dtcs_extracted = df_google_form_dropped_null_notes['Notes'].str.extract(f'(DTCs present with unit we.*?)(?=Are the original and current problems related)', flags=re.IGNORECASE | re.DOTALL)"
   ]
  },
  {
   "cell_type": "code",
   "execution_count": 85,
   "metadata": {},
   "outputs": [],
   "source": [
    "# Get the indexes from the Series after extraction\n",
    "fs1_dtcs_indexes = fs1_dtcs_extracted.dropna().index"
   ]
  },
  {
   "cell_type": "code",
   "execution_count": 86,
   "metadata": {},
   "outputs": [],
   "source": [
    "# Create the fs1 dtcs mask\n",
    "fs1_dtcs_mask = (df_google_form_dropped_null_notes.index.isin(fs1_dtcs_indexes)) & (df_google_form_dropped_null_notes['FS1 DTCs'].isna())"
   ]
  },
  {
   "cell_type": "code",
   "execution_count": 87,
   "metadata": {},
   "outputs": [],
   "source": [
    "# Update the main dataframe with the fs1 dtcs only where the rows are null\n",
    "df_google_form_dropped_null_notes.loc[fs1_dtcs_mask, 'FS1 DTCs'] = fs1_problems_extracted.loc[fs1_dtcs_mask, 0]"
   ]
  },
  {
   "cell_type": "markdown",
   "metadata": {},
   "source": [
    "PROBLEMS RELATED"
   ]
  },
  {
   "cell_type": "code",
   "execution_count": 88,
   "metadata": {},
   "outputs": [],
   "source": [
    "# Extract the original problems related information (Yes/No/Uncertain)\n",
    "google_form_problems_related = df_google_form_dropped_null_notes['Notes'].str.extract(r'Are the original and current problems related.*?(Yes|No|Uncertain).*?(?=Were the appropriate)', flags=re.IGNORECASE | re.DOTALL)"
   ]
  },
  {
   "cell_type": "code",
   "execution_count": 89,
   "metadata": {},
   "outputs": [],
   "source": [
    "# Get the indexes from the Series after extraction\n",
    "google_form_problems_related_index = google_form_problems_related.dropna().index"
   ]
  },
  {
   "cell_type": "code",
   "execution_count": 90,
   "metadata": {},
   "outputs": [],
   "source": [
    "# Create the problems related mask\n",
    "google_form_problems_related_mask = (df_google_form_dropped_null_notes.index.isin(google_form_problems_related_index)) & (df_google_form_dropped_null_notes['FS1/Original Problems Related'].isna())"
   ]
  },
  {
   "cell_type": "code",
   "execution_count": 91,
   "metadata": {},
   "outputs": [],
   "source": [
    "# Update the main dataframe with the fs1 dtcs only where the rows are null\n",
    "df_google_form_dropped_null_notes.loc[google_form_problems_related_mask, 'FS1/Original Problems Related'] = google_form_problems_related.loc[google_form_problems_related_mask, 0]"
   ]
  },
  {
   "cell_type": "markdown",
   "metadata": {},
   "source": [
    "ADDITIONAL NOTES EXTRACTION"
   ]
  },
  {
   "cell_type": "code",
   "execution_count": 92,
   "metadata": {},
   "outputs": [],
   "source": [
    "# Extract the addional notes\n",
    "additional_notes_extracted = df_google_form_dropped_null_notes['Notes'].str.extract(f'(Additional Notes:.*?)(?=Resolution)', flags=re.IGNORECASE | re.DOTALL)"
   ]
  },
  {
   "cell_type": "code",
   "execution_count": 93,
   "metadata": {},
   "outputs": [],
   "source": [
    "# Get the indexes from the Series after extraction\n",
    "additional_notes_indexes = additional_notes_extracted.dropna().index"
   ]
  },
  {
   "cell_type": "code",
   "execution_count": 94,
   "metadata": {},
   "outputs": [],
   "source": [
    "# Create the additional notes mask\n",
    "additional_notes_mask = (df_google_form_dropped_null_notes.index.isin(additional_notes_indexes)) & (df_google_form_dropped_null_notes['Additional Notes'].isna())"
   ]
  },
  {
   "cell_type": "code",
   "execution_count": 95,
   "metadata": {},
   "outputs": [],
   "source": [
    "# Update the main dataframe with the additional notes only where the rows are null\n",
    "df_google_form_dropped_null_notes.loc[additional_notes_mask, 'Additional Notes'] = additional_notes_extracted.loc[additional_notes_mask, 0]"
   ]
  },
  {
   "cell_type": "markdown",
   "metadata": {},
   "source": [
    "RESOLUTION EXTRACTION"
   ]
  },
  {
   "cell_type": "code",
   "execution_count": 96,
   "metadata": {},
   "outputs": [],
   "source": [
    "# Filter only the rows containing the string 'Additional Notes' on column notes\n",
    "resolution_notes_extracted = df_google_form_dropped_null_notes[df_google_form_dropped_null_notes['Notes'].str.contains('Additional Notes', case=False, na=False)]"
   ]
  },
  {
   "cell_type": "code",
   "execution_count": 97,
   "metadata": {},
   "outputs": [],
   "source": [
    "# Extract the resolution notes\n",
    "resolution_extracted = resolution_notes_extracted['Notes'].str.extract(f'Resolution:(.*)', flags=re.IGNORECASE | re.DOTALL)"
   ]
  },
  {
   "cell_type": "code",
   "execution_count": 98,
   "metadata": {},
   "outputs": [],
   "source": [
    "# Update the main df with the data extracted from the resolution notes\n",
    "df_google_form_dropped_null_notes.loc[resolution_notes_extracted.index, 'Resolution'] = resolution_extracted[0]"
   ]
  },
  {
   "cell_type": "code",
   "execution_count": 99,
   "metadata": {},
   "outputs": [
    {
     "name": "stdout",
     "output_type": "stream",
     "text": [
      "<class 'pandas.core.frame.DataFrame'>\n",
      "Index: 1716 entries, 0 to 8387\n",
      "Data columns (total 20 columns):\n",
      " #   Column                         Non-Null Count  Dtype  \n",
      "---  ------                         --------------  -----  \n",
      " 0   Created Time                   1716 non-null   object \n",
      " 1   H Number                       1716 non-null   object \n",
      " 2   Entry Type                     1716 non-null   object \n",
      " 3   Technician                     1664 non-null   object \n",
      " 4   Source                         1716 non-null   object \n",
      " 5   Year                           1716 non-null   float64\n",
      " 6   Make                           1716 non-null   object \n",
      " 7   Model                          1716 non-null   object \n",
      " 8   Engine Size                    1667 non-null   object \n",
      " 9   HW #                           1489 non-null   object \n",
      " 10  Part #                         1610 non-null   object \n",
      " 11  Notes                          1716 non-null   object \n",
      " 12  h_number_true                  1716 non-null   bool   \n",
      " 13  Original Problems              603 non-null    object \n",
      " 14  Original DTCs                  594 non-null    object \n",
      " 15  FS1 ECU Problems               603 non-null    object \n",
      " 16  FS1 DTCs                       597 non-null    object \n",
      " 17  FS1/Original Problems Related  603 non-null    object \n",
      " 18  Additional Notes               562 non-null    object \n",
      " 19  Resolution                     598 non-null    object \n",
      "dtypes: bool(1), float64(1), object(18)\n",
      "memory usage: 334.3+ KB\n"
     ]
    }
   ],
   "source": [
    "# Check the df info after split the column notes\n",
    "df_google_form_dropped_null_notes.info()"
   ]
  },
  {
   "cell_type": "code",
   "execution_count": 100,
   "metadata": {},
   "outputs": [],
   "source": [
    "# Create a df with h numbers which received the extracted data. This df will be concatenated to the 'df_zoho_form_last_update', the one prescreened with the CRM form\n",
    "df_google_form_filtered_true = df_google_form_dropped_null_notes[df_google_form_dropped_null_notes['h_number_true'] == True]"
   ]
  },
  {
   "cell_type": "code",
   "execution_count": 101,
   "metadata": {},
   "outputs": [
    {
     "data": {
      "text/plain": [
       "<Axes: >"
      ]
     },
     "execution_count": 101,
     "metadata": {},
     "output_type": "execute_result"
    },
    {
     "data": {
      "image/png": "[encoded data removed]",
      "text/plain": [
       "<Figure size 2500x1000 with 2 Axes>"
      ]
     },
     "metadata": {},
     "output_type": "display_data"
    }
   ],
   "source": [
    "# Chart to see possible empty rows\n",
    "msno.matrix(df_google_form_filtered_true)"
   ]
  },
  {
   "cell_type": "markdown",
   "metadata": {},
   "source": [
    "The columns with the original problems and with the fs1 ECM problems has no null values, which is correct. However, the chart shows one of the raws are empty, but should not because this field is mandatory with the conclusion of the diagnostic.\n",
    "The next lines of codes are used to see why the technician left the resolution field empty."
   ]
  },
  {
   "cell_type": "code",
   "execution_count": 102,
   "metadata": {},
   "outputs": [],
   "source": [
    "# Create a series with the rows without values\n",
    "df_google_form_filtered_true_reso_na = df_google_form_filtered_true['Resolution'].isna()"
   ]
  },
  {
   "cell_type": "code",
   "execution_count": 103,
   "metadata": {},
   "outputs": [
    {
     "data": {
      "text/plain": [
       "6158    True\n",
       "Name: Resolution, dtype: bool"
      ]
     },
     "execution_count": 103,
     "metadata": {},
     "output_type": "execute_result"
    }
   ],
   "source": [
    "# Filter only the true values\n",
    "df_google_form_filtered_true_reso_na[df_google_form_filtered_true_reso_na == True]"
   ]
  },
  {
   "cell_type": "code",
   "execution_count": 104,
   "metadata": {},
   "outputs": [
    {
     "name": "stdout",
     "output_type": "stream",
     "text": [
      "Account #: H1637433\n",
      "Problem(s) experienced with the original unit: Evaporative Emissions\n",
      "System, Ignition Coils, Unsure, either the same no start issue or\n",
      "power steering\n",
      "DTCs present with original unit:\n",
      "P0352 Ignition Coil B Primary/Secondary Circuit Malfunction\n",
      "P0441 Evaporative Emission Control System Incorrect Purge Flow\n",
      "Problem(s) experienced with the unit we've provided: Immobilizer/Security\n",
      "DTCs present with unit we've provided:\n",
      "b2799\n",
      "Are the original and current problems related? Uncertain\n",
      "Were the appropriate diagnostic steps followed? No\n",
      "Additional Notes: Last two accounts that this was used for were also unable to relearn the obd tool/immo H1492834 H1603485 \n",
      "\n",
      "Customer requires replacement and this module should be cored for parts only\n"
     ]
    }
   ],
   "source": [
    "# Print the diagnostic notes using the filtered index and show why the resolution field is empty\n",
    "print(df_google_form_filtered_true['Notes'][6158])"
   ]
  },
  {
   "cell_type": "markdown",
   "metadata": {},
   "source": [
    "The resolution field does not exist therefore, the additional notes field was used to provide the diagnostic resolution. In this case, the string 'Customer requires replacement and this module should be cored for parts only' will be placed under the resolution field."
   ]
  },
  {
   "cell_type": "code",
   "execution_count": 105,
   "metadata": {},
   "outputs": [],
   "source": [
    "# Realocate the resolution to the resolution field\n",
    "df_google_form_filtered_true.loc[6158, 'Resolution'] = 'Customer requires replacement and this module should be cored for parts only'"
   ]
  },
  {
   "cell_type": "code",
   "execution_count": 106,
   "metadata": {},
   "outputs": [
    {
     "data": {
      "text/plain": [
       "'Customer requires replacement and this module should be cored for parts only'"
      ]
     },
     "execution_count": 106,
     "metadata": {},
     "output_type": "execute_result"
    }
   ],
   "source": [
    "# Print the line with the corrected data\n",
    "df_google_form_filtered_true['Resolution'][6158]"
   ]
  },
  {
   "cell_type": "code",
   "execution_count": 107,
   "metadata": {},
   "outputs": [
    {
     "data": {
      "text/plain": [
       "<Axes: >"
      ]
     },
     "execution_count": 107,
     "metadata": {},
     "output_type": "execute_result"
    },
    {
     "data": {
      "image/png": "[encoded data removed]",
      "text/plain": [
       "<Figure size 2500x1000 with 2 Axes>"
      ]
     },
     "metadata": {},
     "output_type": "display_data"
    }
   ],
   "source": [
    "# Print the chart again to confirm the correction\n",
    "msno.matrix(df_google_form_filtered_true)"
   ]
  },
  {
   "cell_type": "code",
   "execution_count": 109,
   "metadata": {},
   "outputs": [],
   "source": [
    "# Function to remove all the characteres from the created columns\n",
    "def remove_chars(df):\n",
    "    # Create a copy from input df\n",
    "    df_cleaned = df.copy()\n",
    "\n",
    "    # Create a list with the column names the function will be used for\n",
    "    columns_to_clear = ['Original Problems', 'Original DTCs',\n",
    "                        'FS1 ECU Problems', 'FS1 DTCs', 'FS1/Original Problems Related',\n",
    "                        'Additional Notes', 'Resolution']\n",
    "    \n",
    "    # Loop to iterate over the list of column names\n",
    "    for column in columns_to_clear:\n",
    "        # Condition to match the columns in the main df\n",
    "        if column in df_cleaned.columns:\n",
    "            # Use the method 'replace' to remove the chars\n",
    "            df_cleaned[column] = (df_cleaned[column].replace(r'<[^>]*>|</[^>]*>|\\n|:|=|\\?|\\\\|\\/|\\r|\\t', '', regex=True).str.strip())\n",
    "    \n",
    "    # Return a copy of the df cleaned \n",
    "    return df_cleaned"
   ]
  },
  {
   "cell_type": "code",
   "execution_count": null,
   "metadata": {},
   "outputs": [],
   "source": [
    "# Call the function to remove the chars\n",
    "df_google_form_filtered_true_nochars = remove_chars(df_google_form_filtered_true)"
   ]
  },
  {
   "cell_type": "code",
   "execution_count": 116,
   "metadata": {},
   "outputs": [
    {
     "name": "stdout",
     "output_type": "stream",
     "text": [
      "<class 'pandas.core.frame.DataFrame'>\n",
      "Index: 308 entries, 1 to 8377\n",
      "Data columns (total 20 columns):\n",
      " #   Column                         Non-Null Count  Dtype  \n",
      "---  ------                         --------------  -----  \n",
      " 0   Created Time                   308 non-null    object \n",
      " 1   H Number                       308 non-null    object \n",
      " 2   Entry Type                     308 non-null    object \n",
      " 3   Technician                     293 non-null    object \n",
      " 4   Source                         308 non-null    object \n",
      " 5   Year                           308 non-null    float64\n",
      " 6   Make                           308 non-null    object \n",
      " 7   Model                          308 non-null    object \n",
      " 8   Engine Size                    302 non-null    object \n",
      " 9   HW #                           266 non-null    object \n",
      " 10  Part #                         296 non-null    object \n",
      " 11  Notes                          308 non-null    object \n",
      " 12  h_number_true                  308 non-null    bool   \n",
      " 13  Original Problems              308 non-null    object \n",
      " 14  Original DTCs                  299 non-null    object \n",
      " 15  FS1 ECU Problems               308 non-null    object \n",
      " 16  FS1 DTCs                       302 non-null    object \n",
      " 17  FS1/Original Problems Related  308 non-null    object \n",
      " 18  Additional Notes               275 non-null    object \n",
      " 19  Resolution                     308 non-null    object \n",
      "dtypes: bool(1), float64(1), object(18)\n",
      "memory usage: 56.5+ KB\n"
     ]
    }
   ],
   "source": [
    "# Show the df info \n",
    "df_google_form_filtered_true_nochars.info()"
   ]
  },
  {
   "cell_type": "code",
   "execution_count": 149,
   "metadata": {},
   "outputs": [],
   "source": [
    "# Drop the column 'h_number_true' as it is no longer needed\n",
    "df_google_form_last_version = df_google_form_filtered_true_nochars.drop(columns=['h_number_true'])"
   ]
  },
  {
   "cell_type": "code",
   "execution_count": 150,
   "metadata": {},
   "outputs": [],
   "source": [
    "# Concatenate the cleaned dataframes prescreened with the CRM form (df_zoho_form_last_update) and and prescreened with the google form (df_google_form_filtered_true)  \n",
    "df_zoho_google_cleaned_concatenated = pd.concat([df_zoho_form_last_update, df_google_form_last_version], axis=0) "
   ]
  },
  {
   "cell_type": "code",
   "execution_count": 156,
   "metadata": {},
   "outputs": [],
   "source": [
    "# Reset the index\n",
    "df_zoho_google_cleaned_reset_index = df_zoho_google_cleaned_concatenated.reset_index(drop=True)"
   ]
  },
  {
   "cell_type": "code",
   "execution_count": 157,
   "metadata": {},
   "outputs": [],
   "source": [
    "# Mapping the column names to rename the columns of the main df to import it to the database\n",
    "column_mapping = {\n",
    "    0: 'index',\n",
    "    'Created Time': 'created_time',\n",
    "    'H Number': 'h_number',\n",
    "    'Entry Type': 'entry_type',\n",
    "    'Technician': 'technician',\n",
    "    'Source': 'source',\n",
    "    'Year': 'year',\n",
    "    'Make': 'make',\n",
    "    'Model': 'model',\n",
    "    'Engine Size': 'engine_size',\n",
    "    'HW #': 'hdw_number',\n",
    "    'Part #': 'part_number',\n",
    "    'Notes': 'notes',\n",
    "    'Original Problems': 'original_problems',\n",
    "    'Original DTCs': 'original_dtcs',\n",
    "    'FS1 ECU Problems': 'fs1_ecu_problems',\n",
    "    'FS1 DTCs': 'fs1_dtcs',\n",
    "    'FS1/Original Problems Related': 'fs1_original_problems_related',\n",
    "    'Additional Notes': 'additional_notes',\n",
    "    'Resolution': 'resolution'\n",
    "}"
   ]
  },
  {
   "cell_type": "code",
   "execution_count": 158,
   "metadata": {},
   "outputs": [],
   "source": [
    "# Rename the columns using the column map dict\n",
    "df_zoho_form_cleaned_renamed_columns = df_zoho_google_cleaned_concatenated.rename(columns=column_mapping)"
   ]
  },
  {
   "cell_type": "code",
   "execution_count": 159,
   "metadata": {},
   "outputs": [
    {
     "name": "stdout",
     "output_type": "stream",
     "text": [
      "<class 'pandas.core.frame.DataFrame'>\n",
      "Index: 5352 entries, 13 to 8377\n",
      "Data columns (total 19 columns):\n",
      " #   Column                         Non-Null Count  Dtype  \n",
      "---  ------                         --------------  -----  \n",
      " 0   created_time                   5352 non-null   object \n",
      " 1   h_number                       5352 non-null   object \n",
      " 2   entry_type                     5352 non-null   object \n",
      " 3   technician                     5337 non-null   object \n",
      " 4   source                         5352 non-null   object \n",
      " 5   year                           5352 non-null   float64\n",
      " 6   make                           5352 non-null   object \n",
      " 7   model                          5351 non-null   object \n",
      " 8   engine_size                    5204 non-null   object \n",
      " 9   hdw_number                     4738 non-null   object \n",
      " 10  part_number                    5085 non-null   object \n",
      " 11  notes                          5352 non-null   object \n",
      " 12  original_problems              5352 non-null   object \n",
      " 13  original_dtcs                  5343 non-null   object \n",
      " 14  fs1_ecu_problems               5352 non-null   object \n",
      " 15  fs1_dtcs                       5346 non-null   object \n",
      " 16  fs1_original_problems_related  5352 non-null   object \n",
      " 17  additional_notes               5319 non-null   object \n",
      " 18  resolution                     5352 non-null   object \n",
      "dtypes: float64(1), object(18)\n",
      "memory usage: 836.2+ KB\n"
     ]
    }
   ],
   "source": [
    "# Check the info\n",
    "df_zoho_form_cleaned_renamed_columns.info()"
   ]
  },
  {
   "cell_type": "code",
   "execution_count": 161,
   "metadata": {},
   "outputs": [],
   "source": [
    "# Save the cleaned dataframe to a .csv file\n",
    "df_zoho_form_cleaned_renamed_columns.to_csv('df_zoho_google_cleaned.csv', index=False)"
   ]
  },
  {
   "cell_type": "code",
   "execution_count": 162,
   "metadata": {},
   "outputs": [
    {
     "data": {
      "text/html": [
       "<div>\n",
       "<style scoped>\n",
       "    .dataframe tbody tr th:only-of-type {\n",
       "        vertical-align: middle;\n",
       "    }\n",
       "\n",
       "    .dataframe tbody tr th {\n",
       "        vertical-align: top;\n",
       "    }\n",
       "\n",
       "    .dataframe thead th {\n",
       "        text-align: right;\n",
       "    }\n",
       "</style>\n",
       "<table border=\"1\" class=\"dataframe\">\n",
       "  <thead>\n",
       "    <tr style=\"text-align: right;\">\n",
       "      <th></th>\n",
       "      <th>created_time</th>\n",
       "      <th>h_number</th>\n",
       "      <th>entry_type</th>\n",
       "      <th>technician</th>\n",
       "      <th>source</th>\n",
       "      <th>year</th>\n",
       "      <th>make</th>\n",
       "      <th>model</th>\n",
       "      <th>engine_size</th>\n",
       "      <th>hdw_number</th>\n",
       "      <th>part_number</th>\n",
       "      <th>notes</th>\n",
       "      <th>original_problems</th>\n",
       "      <th>original_dtcs</th>\n",
       "      <th>fs1_ecu_problems</th>\n",
       "      <th>fs1_dtcs</th>\n",
       "      <th>fs1_original_problems_related</th>\n",
       "      <th>additional_notes</th>\n",
       "      <th>resolution</th>\n",
       "    </tr>\n",
       "  </thead>\n",
       "  <tbody>\n",
       "    <tr>\n",
       "      <th>13</th>\n",
       "      <td>Jul 03, 2024 12:34 PM</td>\n",
       "      <td>H1483335</td>\n",
       "      <td>Pre-Screen Form Completed</td>\n",
       "      <td>Adeosun</td>\n",
       "      <td>S280762</td>\n",
       "      <td>2006.0</td>\n",
       "      <td>Saturn</td>\n",
       "      <td>ION</td>\n",
       "      <td>2.2L</td>\n",
       "      <td>E16A-26S</td>\n",
       "      <td>12605786</td>\n",
       "      <td>Extended Note:\\n&lt;hr&gt;&lt;b&gt;Task Owner:&lt;/b&gt; Adeosun...</td>\n",
       "      <td>No power when accelerating</td>\n",
       "      <td>NO ERROR CODES</td>\n",
       "      <td>MODULE WOULD NOT START THE CAR PASSKEY II  Pro...</td>\n",
       "      <td>None</td>\n",
       "      <td>No</td>\n",
       "      <td>I recommend we have the customer verify that t...</td>\n",
       "      <td>Customer must perform additional diagnosticsec...</td>\n",
       "    </tr>\n",
       "    <tr>\n",
       "      <th>14</th>\n",
       "      <td>Jul 05, 2024 12:44 PM</td>\n",
       "      <td>H1480306</td>\n",
       "      <td>Pre-Screen Form Completed</td>\n",
       "      <td>Adeosun</td>\n",
       "      <td>S280194</td>\n",
       "      <td>2009.0</td>\n",
       "      <td>Ford</td>\n",
       "      <td>F-Series Truck</td>\n",
       "      <td>5.4L</td>\n",
       "      <td>9C2A-12B684-AC</td>\n",
       "      <td>9L3A-12A650-BXD</td>\n",
       "      <td>Extended Note:\\n&lt;hr&gt;&lt;b&gt;Task Owner:&lt;/b&gt; Adeosun...</td>\n",
       "      <td>It starts but no ground for bank 2 sensor 1 o2...</td>\n",
       "      <td>P0050</td>\n",
       "      <td>It start but had code code p1639 vid programmi...</td>\n",
       "      <td>P1639</td>\n",
       "      <td>No</td>\n",
       "      <td>Return both the original unit and our unit, so...</td>\n",
       "      <td>Return both the original unit and our unit, so...</td>\n",
       "    </tr>\n",
       "  </tbody>\n",
       "</table>\n",
       "</div>"
      ],
      "text/plain": [
       "             created_time  h_number                 entry_type technician  \\\n",
       "13  Jul 03, 2024 12:34 PM  H1483335  Pre-Screen Form Completed    Adeosun   \n",
       "14  Jul 05, 2024 12:44 PM  H1480306  Pre-Screen Form Completed    Adeosun   \n",
       "\n",
       "     source    year    make           model engine_size      hdw_number  \\\n",
       "13  S280762  2006.0  Saturn             ION        2.2L        E16A-26S   \n",
       "14  S280194  2009.0    Ford  F-Series Truck        5.4L  9C2A-12B684-AC   \n",
       "\n",
       "        part_number                                              notes  \\\n",
       "13         12605786  Extended Note:\\n<hr><b>Task Owner:</b> Adeosun...   \n",
       "14  9L3A-12A650-BXD  Extended Note:\\n<hr><b>Task Owner:</b> Adeosun...   \n",
       "\n",
       "                                    original_problems   original_dtcs  \\\n",
       "13                         No power when accelerating  NO ERROR CODES   \n",
       "14  It starts but no ground for bank 2 sensor 1 o2...           P0050   \n",
       "\n",
       "                                     fs1_ecu_problems fs1_dtcs  \\\n",
       "13  MODULE WOULD NOT START THE CAR PASSKEY II  Pro...     None   \n",
       "14  It start but had code code p1639 vid programmi...    P1639   \n",
       "\n",
       "   fs1_original_problems_related  \\\n",
       "13                            No   \n",
       "14                            No   \n",
       "\n",
       "                                     additional_notes  \\\n",
       "13  I recommend we have the customer verify that t...   \n",
       "14  Return both the original unit and our unit, so...   \n",
       "\n",
       "                                           resolution  \n",
       "13  Customer must perform additional diagnosticsec...  \n",
       "14  Return both the original unit and our unit, so...  "
      ]
     },
     "execution_count": 162,
     "metadata": {},
     "output_type": "execute_result"
    }
   ],
   "source": [
    "df_zoho_form_cleaned_renamed_columns.head(2)"
   ]
  },
  {
   "cell_type": "code",
   "execution_count": null,
   "metadata": {},
   "outputs": [],
   "source": []
  }
 ],
 "metadata": {
  "kernelspec": {
   "display_name": "prescreen_data_analysis",
   "language": "python",
   "name": "python3"
  },
  "language_info": {
   "codemirror_mode": {
    "name": "ipython",
    "version": 3
   },
   "file_extension": ".py",
   "mimetype": "text/x-python",
   "name": "python",
   "nbconvert_exporter": "python",
   "pygments_lexer": "ipython3",
   "version": "3.12.2"
  }
 },
 "nbformat": 4,
 "nbformat_minor": 2
}
