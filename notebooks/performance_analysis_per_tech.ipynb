{
 "cells": [
  {
   "cell_type": "code",
   "execution_count": 2,
   "id": "171e0a4f",
   "metadata": {},
   "outputs": [],
   "source": [
    "import pandas as pd\n",
    "import matplotlib.pyplot as plt\n",
    "import os\n",
    "from supabase import create_client, Client"
   ]
  },
  {
   "cell_type": "code",
   "execution_count": 3,
   "id": "5370333c",
   "metadata": {},
   "outputs": [],
   "source": [
    "# Read the df_zoho_form_cleaned and store in a variable\n",
    "df_analysis_per_tech = pd.read_csv('C:\\\\Language_Projects\\\\Language_Projects\\\\Python\\\\Flagship_1\\\\automotive_diagnostic_data_analysis\\\\data\\\\df_zoho_google_cleaned.csv')"
   ]
  },
  {
   "cell_type": "code",
   "execution_count": 4,
   "id": "d8666465",
   "metadata": {},
   "outputs": [],
   "source": [
    "# Convert the string data to datetime type\n",
    "df_analysis_per_tech['created_time'] = pd.to_datetime(df_analysis_per_tech['created_time'])"
   ]
  },
  {
   "cell_type": "code",
   "execution_count": 5,
   "id": "19235c52",
   "metadata": {},
   "outputs": [],
   "source": [
    "# Sort the df through the datetime\n",
    "df_analysis_per_tech_sorted = df_analysis_per_tech.sort_values('created_time')"
   ]
  },
  {
   "cell_type": "code",
   "execution_count": 6,
   "id": "777f6215",
   "metadata": {},
   "outputs": [],
   "source": [
    "# Reset index after sortting\n",
    "df_analysis_per_tech_reset_index = df_analysis_per_tech_sorted.reset_index(drop=True)"
   ]
  },
  {
   "cell_type": "code",
   "execution_count": 7,
   "id": "eabc98bd",
   "metadata": {},
   "outputs": [
    {
     "data": {
      "text/plain": [
       "0   2022-10-30 09:47:00\n",
       "1   2022-11-24 10:01:00\n",
       "2   2023-07-24 08:37:00\n",
       "3   2023-10-04 11:50:00\n",
       "4   2023-11-13 11:01:00\n",
       "5   2024-02-27 13:03:00\n",
       "6   2024-03-01 05:09:00\n",
       "7   2024-03-15 07:42:00\n",
       "8   2024-04-02 12:37:00\n",
       "9   2024-04-06 07:55:00\n",
       "Name: created_time, dtype: datetime64[ns]"
      ]
     },
     "execution_count": 7,
     "metadata": {},
     "output_type": "execute_result"
    }
   ],
   "source": [
    "# Print the first 10 rows of the column created_time\n",
    "df_analysis_per_tech_reset_index['created_time'].head(10)"
   ]
  },
  {
   "cell_type": "markdown",
   "id": "3dce1a6d",
   "metadata": {},
   "source": [
    "There are only 5 diagnostic entries from 2022 and 2023. Therefore, the analysis will be conducted considering only the years 2024 and 2025."
   ]
  },
  {
   "cell_type": "code",
   "execution_count": 8,
   "id": "93ca9d6e",
   "metadata": {},
   "outputs": [],
   "source": [
    "# Count the entries done in 2024\n",
    "diagnostic_2024 = (df_analysis_per_tech_reset_index['created_time'].dt.to_period('Y') == '2024').value_counts()"
   ]
  },
  {
   "cell_type": "code",
   "execution_count": 9,
   "id": "779681d8",
   "metadata": {},
   "outputs": [
    {
     "data": {
      "text/plain": [
       "created_time\n",
       "True     3388\n",
       "False    1964\n",
       "Name: count, dtype: int64"
      ]
     },
     "execution_count": 9,
     "metadata": {},
     "output_type": "execute_result"
    }
   ],
   "source": [
    "# Print the values\n",
    "diagnostic_2024"
   ]
  },
  {
   "cell_type": "code",
   "execution_count": 10,
   "id": "ff860017",
   "metadata": {},
   "outputs": [],
   "source": [
    "# Count the entries done in 2024\n",
    "diagnostic_2025 = (df_analysis_per_tech_reset_index['created_time'].dt.to_period('Y') == '2025').value_counts()"
   ]
  },
  {
   "cell_type": "code",
   "execution_count": 11,
   "id": "3fd1729f",
   "metadata": {},
   "outputs": [
    {
     "data": {
      "text/plain": [
       "created_time\n",
       "False    3393\n",
       "True     1959\n",
       "Name: count, dtype: int64"
      ]
     },
     "execution_count": 11,
     "metadata": {},
     "output_type": "execute_result"
    }
   ],
   "source": [
    "# Print the values\n",
    "diagnostic_2025"
   ]
  },
  {
   "cell_type": "code",
   "execution_count": 12,
   "id": "fed715bf",
   "metadata": {},
   "outputs": [],
   "source": [
    "# Create a df with the 2024 entries\n",
    "df_analysis_per_tech_2024 = df_analysis_per_tech_reset_index[df_analysis_per_tech_reset_index['created_time'].dt.to_period('Y') == '2024']"
   ]
  },
  {
   "cell_type": "code",
   "execution_count": 13,
   "id": "7e458435",
   "metadata": {},
   "outputs": [],
   "source": [
    "# Create a df with the 2024 entries\n",
    "df_analysis_per_tech_2025 = df_analysis_per_tech_reset_index[df_analysis_per_tech_reset_index['created_time'].dt.to_period('Y') == '2025']"
   ]
  },
  {
   "cell_type": "code",
   "execution_count": 14,
   "id": "030ca850",
   "metadata": {},
   "outputs": [
    {
     "data": {
      "text/plain": [
       "Index(['created_time', 'h_number', 'entry_type', 'technician', 'source',\n",
       "       'year', 'make', 'model', 'engine_size', 'hdw_number', 'part_number',\n",
       "       'notes', 'original_problems', 'original_dtcs', 'fs1_ecu_problems',\n",
       "       'fs1_dtcs', 'fs1_original_problems_related', 'additional_notes',\n",
       "       'resolution'],\n",
       "      dtype='object')"
      ]
     },
     "execution_count": 14,
     "metadata": {},
     "output_type": "execute_result"
    }
   ],
   "source": [
    "# Print the columns to confirm their names\n",
    "df_analysis_per_tech_2024.columns"
   ]
  },
  {
   "cell_type": "code",
   "execution_count": 15,
   "id": "a5df9c99",
   "metadata": {},
   "outputs": [],
   "source": [
    "# Function to create a dataframe to show the counted entries / tech\n",
    "def count_tech_entry(df_analysis_per_tech_year):\n",
    "    entries_per_tech_counted_year = df_analysis_per_tech_year['technician'].value_counts()\n",
    "    df_count_entries_tech_year = pd.DataFrame({'Technician': entries_per_tech_counted_year.index, 'Quantity': entries_per_tech_counted_year.values})\n",
    "    return df_count_entries_tech_year"
   ]
  },
  {
   "cell_type": "code",
   "execution_count": 16,
   "id": "612fd64b",
   "metadata": {},
   "outputs": [],
   "source": [
    "# Function to create a chart to show the counted entries / tech\n",
    "def create_chart(year, df):\n",
    "    plt.figure(figsize=[8, 4])\n",
    "    bar_tech_2024 = plt.bar(df['Technician'], df['Quantity'], color='blue')\n",
    "    plt.xlabel('Technician', fontdict={'weight': 'bold', 'color': 'black'})\n",
    "    plt.ylabel('Quantity', fontdict={'weight': 'bold', 'color': 'black'})\n",
    "    plt.title(f'Diagnostic Performance {year} / Technician', fontdict={'weight': 'bold', 'color': 'black'})\n",
    "    plt.bar_label(bar_tech_2024)\n",
    "    return plt.show()"
   ]
  },
  {
   "cell_type": "code",
   "execution_count": 17,
   "id": "85f90a75",
   "metadata": {},
   "outputs": [],
   "source": [
    "# Call the function to create a df with 2024 entries\n",
    "df_count_entries_tech_2024 = count_tech_entry(df_analysis_per_tech_2024)"
   ]
  },
  {
   "cell_type": "code",
   "execution_count": 18,
   "id": "1712fcd3",
   "metadata": {},
   "outputs": [],
   "source": [
    "# Call the function to create a df with 2024 entries\n",
    "df_count_entries_tech_2025 = count_tech_entry(df_analysis_per_tech_2025)"
   ]
  },
  {
   "cell_type": "markdown",
   "id": "8d62243b",
   "metadata": {},
   "source": [
    "TECH PERFORMANCE IN 2024"
   ]
  },
  {
   "cell_type": "code",
   "execution_count": 19,
   "id": "e67a0b2a",
   "metadata": {},
   "outputs": [
    {
     "data": {
      "image/png": "[encoded data removed]",
      "text/plain": [
       "<Figure size 800x400 with 1 Axes>"
      ]
     },
     "metadata": {},
     "output_type": "display_data"
    }
   ],
   "source": [
    "# Print the 2024 chart \n",
    "create_chart(2024, df_count_entries_tech_2024)"
   ]
  },
  {
   "cell_type": "markdown",
   "id": "76c102a7",
   "metadata": {},
   "source": [
    "TECH PERFORMANCE IN 2025"
   ]
  },
  {
   "cell_type": "code",
   "execution_count": 20,
   "id": "feb3407c",
   "metadata": {},
   "outputs": [
    {
     "data": {
      "image/png": "[encoded data removed]",
      "text/plain": [
       "<Figure size 800x400 with 1 Axes>"
      ]
     },
     "metadata": {},
     "output_type": "display_data"
    }
   ],
   "source": [
    "# Print the 2025 chart\n",
    "create_chart(2025, df_count_entries_tech_2025)"
   ]
  }
 ],
 "metadata": {
  "kernelspec": {
   "display_name": "automotive_fs1_env",
   "language": "python",
   "name": "python3"
  },
  "language_info": {
   "codemirror_mode": {
    "name": "ipython",
    "version": 3
   },
   "file_extension": ".py",
   "mimetype": "text/x-python",
   "name": "python",
   "nbconvert_exporter": "python",
   "pygments_lexer": "ipython3",
   "version": "3.12.2"
  }
 },
 "nbformat": 4,
 "nbformat_minor": 5
}
